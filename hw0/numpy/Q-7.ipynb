{
 "cells": [
  {
   "attachments": {},
   "cell_type": "markdown",
   "metadata": {},
   "source": [
    "# Question 7"
   ]
  },
  {
   "attachments": {},
   "cell_type": "markdown",
   "metadata": {},
   "source": [
    "### 1 .create 10 dot"
   ]
  },
  {
   "cell_type": "code",
   "execution_count": 1,
   "metadata": {},
   "outputs": [],
   "source": [
    "import numpy as np"
   ]
  },
  {
   "cell_type": "code",
   "execution_count": 3,
   "metadata": {},
   "outputs": [
    {
     "name": "stdout",
     "output_type": "stream",
     "text": [
      "Random points in 20 dimensions:\n",
      "[[7.95971566e-01 6.03818550e-02 6.64655564e-02 3.27110515e-01\n",
      "  4.56172438e-01 5.23050001e-01 6.92350913e-01 9.00973840e-01\n",
      "  1.29795637e-01 4.57117048e-01 1.53141845e-01 3.94824334e-01\n",
      "  7.63640052e-01 7.35813895e-01 1.43499858e-02 1.42153690e-01\n",
      "  4.37471022e-01 9.83135339e-01 4.29122843e-01 6.81474292e-02]\n",
      " [7.69956333e-01 2.14802634e-01 4.58081812e-01 6.13670074e-01\n",
      "  9.86259989e-01 9.77775738e-01 3.50819799e-01 9.12111602e-01\n",
      "  9.17169865e-01 6.35508962e-01 7.32777256e-01 8.50856581e-02\n",
      "  3.93359082e-01 9.73414482e-01 6.49261272e-01 6.10783492e-01\n",
      "  8.85708365e-02 2.05743913e-01 2.38603574e-01 5.77564827e-01]\n",
      " [8.70324039e-01 1.10248931e-01 7.81217644e-01 9.22973050e-01\n",
      "  5.94952152e-01 7.13752524e-01 6.21850737e-01 9.19544892e-01\n",
      "  6.18813870e-01 7.05054130e-01 3.96050456e-01 5.28085367e-01\n",
      "  8.23722621e-01 9.65352795e-02 2.75462164e-01 3.13174862e-01\n",
      "  6.75073581e-01 6.13709707e-01 6.11546323e-01 4.60955843e-01]\n",
      " [1.18277003e-01 9.20933949e-01 1.95835835e-01 6.83690737e-01\n",
      "  4.64755980e-01 8.94710498e-01 6.62170573e-01 3.41835237e-01\n",
      "  9.81963463e-01 3.51139860e-01 7.84072280e-01 6.08461076e-02\n",
      "  9.00288696e-01 3.44878443e-01 2.78356336e-01 4.37823706e-01\n",
      "  7.72430079e-01 6.12329906e-01 3.22211983e-01 2.18543798e-01]\n",
      " [5.34329305e-01 8.68429628e-01 2.55173479e-01 6.86185640e-01\n",
      "  4.76726696e-02 5.54161273e-01 9.35470371e-01 4.77986489e-01\n",
      "  7.40873689e-01 3.30146424e-01 2.71067800e-02 8.81639995e-01\n",
      "  1.10390997e-01 4.78729782e-01 6.94588103e-01 8.04461543e-01\n",
      "  3.53432776e-01 1.05194300e-01 3.71871131e-01 5.85246452e-01]\n",
      " [9.51121427e-01 3.31764436e-01 9.93838489e-01 1.59347086e-01\n",
      "  9.35974055e-01 5.48154738e-01 3.90735619e-01 5.40341478e-01\n",
      "  7.63166911e-01 7.42214146e-01 6.34524082e-01 7.07202379e-01\n",
      "  4.16350268e-01 1.10211627e-01 2.59531280e-01 4.12636143e-01\n",
      "  7.44254408e-01 3.68563200e-01 7.78493462e-01 8.00044534e-01]\n",
      " [8.58389978e-01 6.46917125e-01 7.74480843e-01 9.55420351e-01\n",
      "  5.66794242e-01 7.02309698e-01 1.44097699e-01 3.63973796e-01\n",
      "  4.39105437e-01 3.27910907e-01 9.92091712e-01 1.68290618e-01\n",
      "  3.55072560e-01 8.89023026e-01 8.37913387e-01 6.32035913e-01\n",
      "  4.81135637e-01 1.44720727e-02 9.00505951e-01 5.29641393e-02]\n",
      " [5.50410204e-01 1.56291289e-02 1.83056765e-01 2.81343702e-01\n",
      "  1.37367297e-01 3.08615666e-01 2.79566183e-01 8.49104127e-01\n",
      "  8.51822209e-01 7.58839358e-01 8.18052888e-01 6.68786052e-02\n",
      "  9.18287317e-01 4.45679114e-01 9.11295012e-01 7.14905138e-01\n",
      "  1.89357282e-01 2.31294245e-01 4.43118332e-01 1.67015069e-01]\n",
      " [9.09569897e-01 1.49020208e-01 3.89746214e-02 8.53588952e-04\n",
      "  2.93887654e-01 9.03807080e-01 1.96879599e-01 2.88085486e-01\n",
      "  8.31406269e-01 2.18853096e-01 4.78521763e-01 7.18104370e-01\n",
      "  4.56415152e-01 8.23835145e-01 6.12623519e-01 3.02437408e-01\n",
      "  5.56787435e-01 1.48867700e-01 4.07582946e-01 9.02669823e-01]\n",
      " [3.32712429e-01 7.10428247e-01 8.64459300e-01 8.54149756e-01\n",
      "  8.36393180e-01 3.38272675e-01 1.18558831e-01 1.91441207e-01\n",
      "  1.84356630e-01 8.38847457e-01 7.13284841e-02 4.89562218e-01\n",
      "  3.28048084e-01 2.17436790e-01 1.71555731e-01 4.79440271e-01\n",
      "  8.91918245e-03 7.56518793e-01 7.17915020e-01 9.31241187e-01]]\n"
     ]
    }
   ],
   "source": [
    "\n",
    "random_points = np.random.rand(10, 20)\n",
    "print(\"Random points in 20 dimensions:\")\n",
    "print(random_points)"
   ]
  },
  {
   "attachments": {},
   "cell_type": "markdown",
   "metadata": {},
   "source": [
    "### 2 . find nearest"
   ]
  },
  {
   "cell_type": "code",
   "execution_count": 7,
   "metadata": {},
   "outputs": [
    {
     "name": "stdout",
     "output_type": "stream",
     "text": [
      "For point 0, the nearest point is at index 2 with a distance of 1.4840743887924426\n",
      "For point 0, the farthest point is at index 6 with a distance of 2.2396676105888402\n",
      "For point 1, the nearest point is at index 7 with a distance of 1.5274883713342575\n",
      "For point 1, the farthest point is at index 9 with a distance of 2.0808070742335363\n",
      "For point 2, the nearest point is at index 5 with a distance of 1.232902959329987\n",
      "For point 2, the farthest point is at index 8 with a distance of 1.9181567005126874\n",
      "For point 3, the nearest point is at index 2 with a distance of 1.6937623057442361\n",
      "For point 3, the farthest point is at index 9 with a distance of 2.126784318463278\n",
      "For point 4, the nearest point is at index 8 with a distance of 1.6832118451755476\n",
      "For point 4, the farthest point is at index 0 with a distance of 2.0921126411452993\n",
      "For point 5, the nearest point is at index 2 with a distance of 1.232902959329987\n",
      "For point 5, the farthest point is at index 0 with a distance of 2.0060688021112365\n",
      "For point 6, the nearest point is at index 1 with a distance of 1.5337659947563473\n",
      "For point 6, the farthest point is at index 0 with a distance of 2.2396676105888402\n",
      "For point 7, the nearest point is at index 1 with a distance of 1.5274883713342575\n",
      "For point 7, the farthest point is at index 9 with a distance of 2.330191759374402\n",
      "For point 8, the nearest point is at index 1 with a distance of 1.6120688104050462\n",
      "For point 8, the farthest point is at index 9 with a distance of 2.2549484010493055\n",
      "For point 9, the nearest point is at index 5 with a distance of 1.6515467709552565\n",
      "For point 9, the farthest point is at index 7 with a distance of 2.330191759374402\n"
     ]
    }
   ],
   "source": [
    "# Function to calculate the Euclidean distance between two points\n",
    "def euclidean_distance(point1, point2):\n",
    "    return np.linalg.norm(point1 - point2)\n",
    "\n",
    "# Find the nearest and farthest points\n",
    "for i in range(10):\n",
    "    closest_distance = float('inf')\n",
    "    farthest_distance = 0.0\n",
    "    closest_index = -1\n",
    "    farthest_index = -1\n",
    "    \n",
    "    for j in range(10):\n",
    "        if i != j:\n",
    "            distance = euclidean_distance(random_points[i], random_points[j])\n",
    "            \n",
    "            if distance < closest_distance:\n",
    "                closest_distance = distance\n",
    "                closest_index = j\n",
    "            \n",
    "            if distance > farthest_distance:\n",
    "                farthest_distance = distance\n",
    "                farthest_index = j\n",
    "    \n",
    "    print(f\"For point {i}, the nearest point is at index {closest_index} with a distance of {closest_distance}\")\n",
    "    print(f\"For point {i}, the farthest point is at index {farthest_index} with a distance of {farthest_distance}\")"
   ]
  },
  {
   "cell_type": "code",
   "execution_count": null,
   "metadata": {},
   "outputs": [],
   "source": []
  }
 ],
 "metadata": {
  "kernelspec": {
   "display_name": "base",
   "language": "python",
   "name": "python3"
  },
  "language_info": {
   "codemirror_mode": {
    "name": "ipython",
    "version": 3
   },
   "file_extension": ".py",
   "mimetype": "text/x-python",
   "name": "python",
   "nbconvert_exporter": "python",
   "pygments_lexer": "ipython3",
   "version": "3.11.4"
  },
  "orig_nbformat": 4
 },
 "nbformat": 4,
 "nbformat_minor": 2
}
