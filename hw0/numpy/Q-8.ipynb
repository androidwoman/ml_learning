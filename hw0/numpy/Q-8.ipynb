{
 "cells": [
  {
   "attachments": {},
   "cell_type": "markdown",
   "metadata": {},
   "source": [
    "# Question 8 "
   ]
  },
  {
   "attachments": {},
   "cell_type": "markdown",
   "metadata": {},
   "source": [
    "### 1 . standard"
   ]
  },
  {
   "cell_type": "code",
   "execution_count": 1,
   "metadata": {},
   "outputs": [],
   "source": [
    "import numpy as np"
   ]
  },
  {
   "cell_type": "code",
   "execution_count": 3,
   "metadata": {},
   "outputs": [
    {
     "name": "stdout",
     "output_type": "stream",
     "text": [
      "std_exp1_data : \n",
      "[[-1.22474487 -1.22474487 -1.22474487]\n",
      " [ 0.          0.          0.        ]\n",
      " [ 1.22474487  1.22474487  1.22474487]]\n",
      "std_exp2_data : \n",
      "[[-1.22474487 -1.22474487 -1.22474487]\n",
      " [ 0.          0.          0.        ]\n",
      " [ 1.22474487  1.22474487  1.22474487]]\n",
      "std_exp3_data : \n",
      "[[-1.22474487 -1.22474487 -1.22474487]\n",
      " [ 0.          0.          0.        ]\n",
      " [ 1.22474487  1.22474487  1.22474487]]\n"
     ]
    }
   ],
   "source": [
    "\n",
    "exp2_data = np.array([[10, 11, 12],\n",
    "[13, 14, 15],\n",
    "[16, 17, 18]])\n",
    "\n",
    "\n",
    "exp1_data = np.array([[1, 2, 3],\n",
    "                     [4, 5, 6],\n",
    "                     [7, 8, 9]])\n",
    "\n",
    "\n",
    "exp3_data = np.array([[19, 20, 21],\n",
    "[22, 23, 24],\n",
    "[25, 26, 27]])\n",
    "\n",
    "\n",
    "def standardize_data(data):\n",
    "    column_means = np.mean(data, axis=0)\n",
    "    column_stds = np.std(data, axis=0)\n",
    "    standardized_data = (data - column_means) / column_stds\n",
    "    return standardized_data\n",
    "\n",
    "\n",
    "std_exp1_data = standardize_data(exp1_data)\n",
    "std_exp2_data = standardize_data(exp2_data)\n",
    "std_exp3_data = standardize_data(exp3_data)\n",
    "\n",
    "\n",
    "\n",
    "print(\"std_exp1_data : \")\n",
    "print(std_exp1_data)\n",
    "\n",
    "\n",
    "print(\"std_exp2_data : \")\n",
    "print(std_exp2_data)\n",
    "\n",
    "\n",
    "print(\"std_exp3_data : \")\n",
    "print(std_exp3_data)"
   ]
  },
  {
   "attachments": {},
   "cell_type": "markdown",
   "metadata": {},
   "source": [
    "### 2 . combine and splite"
   ]
  },
  {
   "cell_type": "code",
   "execution_count": 8,
   "metadata": {},
   "outputs": [
    {
     "name": "stdout",
     "output_type": "stream",
     "text": [
      "combined_data :\n",
      "[[-1.22474487 -1.22474487 -1.22474487 -1.22474487 -1.22474487 -1.22474487\n",
      "  -1.22474487 -1.22474487 -1.22474487]\n",
      " [ 0.          0.          0.          0.          0.          0.\n",
      "   0.          0.          0.        ]\n",
      " [ 1.22474487  1.22474487  1.22474487  1.22474487  1.22474487  1.22474487\n",
      "   1.22474487  1.22474487  1.22474487]]\n",
      "\n",
      " \n",
      " spite_1 : \n",
      "\n",
      "[[-1.22474487 -1.22474487 -1.22474487 -1.22474487 -1.22474487 -1.22474487\n",
      "  -1.22474487 -1.22474487 -1.22474487]\n",
      " [ 0.          0.          0.          0.          0.          0.\n",
      "   0.          0.          0.        ]]\n",
      "\n",
      " \n",
      " spite_2 : \n",
      "\n",
      "[[1.22474487 1.22474487 1.22474487 1.22474487 1.22474487 1.22474487\n",
      "  1.22474487 1.22474487 1.22474487]]\n"
     ]
    }
   ],
   "source": [
    "combined_data = np.hstack((std_exp1_data, std_exp2_data, std_exp3_data))\n",
    "\n",
    "print(\"combined_data :\")\n",
    "print(combined_data)\n",
    "\n",
    "spite_1=combined_data[:2,:]\n",
    "spite_2=combined_data[2:3,:]\n",
    "\n",
    "print(\"\\n \\n spite_1 : \\n\")\n",
    "print(spite_1)\n",
    "\n",
    "print(\"\\n \\n spite_2 : \\n\")\n",
    "print(spite_2)"
   ]
  },
  {
   "attachments": {},
   "cell_type": "markdown",
   "metadata": {},
   "source": [
    "### 3 . inner_product"
   ]
  },
  {
   "cell_type": "code",
   "execution_count": 9,
   "metadata": {},
   "outputs": [
    {
     "name": "stdout",
     "output_type": "stream",
     "text": [
      "inner_product :\n",
      "[[-13.5]\n",
      " [  0. ]]\n"
     ]
    }
   ],
   "source": [
    "inner_product = np.dot(spite_1, spite_2.T)  \n",
    "\n",
    "\n",
    "print(\"inner_product :\")\n",
    "print(inner_product)"
   ]
  },
  {
   "attachments": {},
   "cell_type": "markdown",
   "metadata": {},
   "source": [
    "### 4 . scalar_result"
   ]
  },
  {
   "cell_type": "code",
   "execution_count": 10,
   "metadata": {},
   "outputs": [
    {
     "name": "stdout",
     "output_type": "stream",
     "text": [
      "Result as a scalar value:\n",
      "-13.500000000000002\n"
     ]
    }
   ],
   "source": [
    "# Sum them into a scalar result\n",
    "scalar_result = np.sum(inner_product)\n",
    "\n",
    "print(\"Result as a scalar value:\")\n",
    "print(scalar_result)"
   ]
  }
 ],
 "metadata": {
  "kernelspec": {
   "display_name": "base",
   "language": "python",
   "name": "python3"
  },
  "language_info": {
   "codemirror_mode": {
    "name": "ipython",
    "version": 3
   },
   "file_extension": ".py",
   "mimetype": "text/x-python",
   "name": "python",
   "nbconvert_exporter": "python",
   "pygments_lexer": "ipython3",
   "version": "3.11.4"
  },
  "orig_nbformat": 4
 },
 "nbformat": 4,
 "nbformat_minor": 2
}
