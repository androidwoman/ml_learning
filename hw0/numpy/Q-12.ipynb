{
 "cells": [
  {
   "cell_type": "code",
   "execution_count": 14,
   "metadata": {},
   "outputs": [
    {
     "name": "stdout",
     "output_type": "stream",
     "text": [
      "[[ 0.00135472  0.01564001 -0.04858465 ... -0.00588488  0.03504592\n",
      "  -0.05058029]\n",
      " [ 0.02487706 -0.05628379  0.01121092 ...  0.00514467 -0.07313328\n",
      "  -0.00974522]\n",
      " [-0.0204547   0.00863679  0.096082   ...  0.03805348 -0.04626897\n",
      "  -0.00725784]\n",
      " ...\n",
      " [ 0.02963509 -0.02319208  0.07132088 ...  0.0203206   0.00058703\n",
      "  -0.03183366]\n",
      " [ 0.01027578 -0.02018255  0.05681729 ...  0.02291106 -0.04222927\n",
      "  -0.05573821]\n",
      " [ 0.03079691 -0.02468791  0.08207965 ...  0.04529444 -0.04848425\n",
      "  -0.02298722]]\n"
     ]
    }
   ],
   "source": [
    "import numpy as np\n",
    "import pandas as pd\n",
    "\n",
    "df = pd.read_csv('patents.csv')\n",
    "\n",
    "patent_number = df['publication_number'].to_numpy()\n",
    "patent_features = df['patent_embedding'].to_numpy()\n",
    "temp = []\n",
    "for i in range(patent_features.size):\n",
    "    s = str(patent_features[i]) \n",
    "    s1 = s.replace(r'\\n', '')\n",
    "    temp.append(\n",
    "        np.array(s.split()[1:-1], dtype='float')[:16]\n",
    "    )\n",
    "\n",
    "patent_features = np.stack(temp)\n",
    "print(patent_features)\n",
    "patent_category = df['category']"
   ]
  },
  {
   "attachments": {},
   "cell_type": "markdown",
   "metadata": {},
   "source": [
    "### max_distance_patent"
   ]
  },
  {
   "cell_type": "code",
   "execution_count": 15,
   "metadata": {},
   "outputs": [
    {
     "name": "stdout",
     "output_type": "stream",
     "text": [
      "max_distance_patent\n",
      "publication_number                                          CH-527846-A\n",
      "title                                             penicillanylaldehydes\n",
      "cpc_code                                                     C07D499/00\n",
      "patent_embedding      [-1.58957148e-03  3.83572765e-02 -1.47625625e-...\n",
      "category                                                              5\n",
      "Name: 10839, dtype: object\n"
     ]
    }
   ],
   "source": [
    "\n",
    "euclidean_distances = np.linalg.norm(patent_features, axis=1)\n",
    "\n",
    "\n",
    "max_distance_patent_index = np.argmax(euclidean_distances)\n",
    "max_distance_patent = df.iloc[max_distance_patent_index]\n",
    "\n",
    "print(\"max_distance_patent\")\n",
    "print(max_distance_patent)"
   ]
  },
  {
   "attachments": {},
   "cell_type": "markdown",
   "metadata": {},
   "source": [
    "## Two patents with the maximum Euclidean distance"
   ]
  },
  {
   "cell_type": "code",
   "execution_count": 27,
   "metadata": {},
   "outputs": [
    {
     "name": "stdout",
     "output_type": "stream",
     "text": [
      "[1433 4905 2635 ... 1661 4012  592]\n",
      "Two patents with the maximum Euclidean distance:  (1661, 4012)\n",
      "Patent 1:\n",
      "publication_number                                      KR-100793527-B1\n",
      "title                                                          abrasive\n",
      "cpc_code                                                       C09G1/02\n",
      "patent_embedding      [-3.89078408e-02 -3.91889922e-02 -1.55463070e-...\n",
      "category                                                              5\n",
      "Name: 1661, dtype: object\n",
      "Patent 2:\n",
      "publication_number                                      JP-2018025642-A\n",
      "title                                                        microscope\n",
      "cpc_code                                                     G02B21/088\n",
      "patent_embedding      [ 8.91560167e-02  5.98845594e-02 -4.88110306e-...\n",
      "category                                                              2\n",
      "Name: 4012, dtype: object\n"
     ]
    }
   ],
   "source": [
    "patent_features=patent_features[:5000]\n",
    "# Calculate Euclidean distances between all pairs of patents\n",
    "distances = np.linalg.norm(patent_features[:, np.newaxis] - patent_features, axis=-1)\n",
    "num_neighbors = np.argmax(distances, axis=1)\n",
    "\n",
    "print(num_neighbors)\n",
    "\n",
    "# Find the indices of the two patents with the maximum distance\n",
    "max_distance_indices = np.unravel_index(np.argmax(distances), distances.shape)\n",
    "\n",
    "patent1_index, patent2_index = max_distance_indices\n",
    "patent1 = df.iloc[patent1_index]\n",
    "patent2 = df.iloc[patent2_index]\n",
    "\n",
    "print(\"Two patents with the maximum Euclidean distance: \",max_distance_indices)\n",
    "print(\"Patent 1:\")\n",
    "print(patent1)\n",
    "print(\"Patent 2:\")\n",
    "print(patent2)\n"
   ]
  },
  {
   "cell_type": "code",
   "execution_count": 22,
   "metadata": {},
   "outputs": [
    {
     "name": "stdout",
     "output_type": "stream",
     "text": [
      "[[0.         0.245627   0.26009143 ... 0.15029349 0.20039899 0.10186195]\n",
      " [0.245627   0.         0.22291979 ... 0.31589119 0.23150106 0.26945603]\n",
      " [0.26009143 0.22291979 0.         ... 0.27262679 0.16427144 0.25019372]\n",
      " ...\n",
      " [0.15029349 0.31589119 0.27262679 ... 0.         0.22647368 0.13184871]\n",
      " [0.20039899 0.23150106 0.16427144 ... 0.22647368 0.         0.21055265]\n",
      " [0.10186195 0.26945603 0.25019372 ... 0.13184871 0.21055265 0.        ]]\n",
      "[   0    1    2 ... 4997 4998 4999]\n",
      "Number of patents with the closest neighbor in the same category: 5000\n"
     ]
    }
   ],
   "source": [
    "# Calculate the distance matrix between all patents\n",
    "distances = np.linalg.norm(patent_features[:, np.newaxis] - patent_features, axis=-1)\n",
    "print(distances)\n",
    "\n",
    "\n",
    "# Find the number of closest neighbors for each patent\n",
    "num_neighbors = np.argmin(distances, axis=1)\n",
    "\n",
    "print(num_neighbors)\n",
    "\n",
    "# Calculate the number of patents that have the closest neighbor in the same category\n",
    "num_same_category = sum(patent_category[i] == patent_category[j] for i, j in enumerate(num_neighbors))\n",
    "\n",
    "print(\"Number of patents with the closest neighbor in the same category:\", num_same_category)"
   ]
  }
 ],
 "metadata": {
  "kernelspec": {
   "display_name": "myenv",
   "language": "python",
   "name": "python3"
  },
  "language_info": {
   "codemirror_mode": {
    "name": "ipython",
    "version": 3
   },
   "file_extension": ".py",
   "mimetype": "text/x-python",
   "name": "python",
   "nbconvert_exporter": "python",
   "pygments_lexer": "ipython3",
   "version": "3.10.13"
  },
  "orig_nbformat": 4
 },
 "nbformat": 4,
 "nbformat_minor": 2
}
