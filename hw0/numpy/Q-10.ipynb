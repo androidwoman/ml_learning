{
 "cells": [
  {
   "attachments": {},
   "cell_type": "markdown",
   "metadata": {},
   "source": [
    "#  Question 10"
   ]
  },
  {
   "cell_type": "code",
   "execution_count": 8,
   "metadata": {},
   "outputs": [
    {
     "name": "stdout",
     "output_type": "stream",
     "text": [
      "Result for iteration 1 (Training with point 1 removed):\n",
      "[[ 9  4]\n",
      " [11  3]\n",
      " [ 7  2]\n",
      " [ 4  1]]\n",
      "Result for iteration 2 (Training with point 2 removed):\n",
      "[[15  5]\n",
      " [11  3]\n",
      " [ 7  2]\n",
      " [ 4  1]]\n",
      "Result for iteration 3 (Training with point 3 removed):\n",
      "[[15  5]\n",
      " [ 9  4]\n",
      " [ 7  2]\n",
      " [ 4  1]]\n",
      "Result for iteration 4 (Training with point 4 removed):\n",
      "[[15  5]\n",
      " [ 9  4]\n",
      " [11  3]\n",
      " [ 4  1]]\n",
      "Result for iteration 5 (Training with point 5 removed):\n",
      "[[15  5]\n",
      " [ 9  4]\n",
      " [11  3]\n",
      " [ 7  2]]\n"
     ]
    }
   ],
   "source": [
    "import numpy as np\n",
    "\n",
    "\n",
    "data = np.array([(15, 5), (9, 4), (11, 3), (7, 2), (4, 1)])\n",
    "\n",
    "leave_one_out_matrices = []\n",
    "\n",
    "for i in range( len(data)):\n",
    "    \n",
    "    testing_point = data[i]\n",
    "\n",
    "    \n",
    "    training_matrix = np.delete(data, i, axis=0)\n",
    "\n",
    "    \n",
    "    leave_one_out_matrices.append(training_matrix)\n",
    "\n",
    "\n",
    "for i, training_matrix in enumerate(leave_one_out_matrices):\n",
    "    print(f\"Result for iteration {i + 1} (Training with point {i + 1} removed):\")\n",
    "    print(training_matrix)\n"
   ]
  }
 ],
 "metadata": {
  "kernelspec": {
   "display_name": "base",
   "language": "python",
   "name": "python3"
  },
  "language_info": {
   "codemirror_mode": {
    "name": "ipython",
    "version": 3
   },
   "file_extension": ".py",
   "mimetype": "text/x-python",
   "name": "python",
   "nbconvert_exporter": "python",
   "pygments_lexer": "ipython3",
   "version": "3.11.4"
  },
  "orig_nbformat": 4
 },
 "nbformat": 4,
 "nbformat_minor": 2
}
