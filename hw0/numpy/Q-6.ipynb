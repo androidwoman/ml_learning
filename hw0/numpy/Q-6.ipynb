{
 "cells": [
  {
   "attachments": {},
   "cell_type": "markdown",
   "metadata": {},
   "source": [
    "# Question 6"
   ]
  },
  {
   "attachments": {},
   "cell_type": "markdown",
   "metadata": {},
   "source": [
    "### 1 . Standardized Data in column"
   ]
  },
  {
   "cell_type": "code",
   "execution_count": 32,
   "metadata": {},
   "outputs": [],
   "source": [
    "import numpy as np"
   ]
  },
  {
   "cell_type": "code",
   "execution_count": 33,
   "metadata": {},
   "outputs": [
    {
     "name": "stdout",
     "output_type": "stream",
     "text": [
      "Data Standardized:\n",
      "[[-1.26472371  1.39204455 -1.35873244 -1.19664225]\n",
      " [ 1.1804088  -0.48001536  0.33968311  1.25103507]\n",
      " [ 0.08431491 -0.91202919  1.01904933 -0.05439283]]\n"
     ]
    }
   ],
   "source": [
    "sensor_data = np.array([[1.2, 3.5, 2.4, 1.8],\n",
    "                        [4.1, 2.2, 3.9, 4.8],\n",
    "                        [2.8, 1.9, 4.5, 3.2]])\n",
    "\n",
    "column_means = np.mean(sensor_data, axis=0)\n",
    "column_stds = np.std(sensor_data, axis=0)\n",
    "data_standardized = (sensor_data - column_means) / column_stds\n",
    "\n",
    "print(\"Data Standardized:\")\n",
    "print(data_standardized)"
   ]
  },
  {
   "attachments": {},
   "cell_type": "markdown",
   "metadata": {},
   "source": [
    "### 2 . Standardized Data in Row"
   ]
  },
  {
   "cell_type": "code",
   "execution_count": 34,
   "metadata": {},
   "outputs": [
    {
     "name": "stdout",
     "output_type": "stream",
     "text": [
      "Data Standardized by Row:\n",
      "[[-1.20640427  1.50064921  0.20597146 -0.5002164 ]\n",
      " [ 0.36639675 -1.62261416  0.15702718  1.09919024]\n",
      " [-0.32071349 -1.28285396  1.49666295  0.1069045 ]]\n"
     ]
    }
   ],
   "source": [
    "\n",
    "\n",
    "\n",
    "data_sensor = np.array([[1.2, 3.5, 2.4, 1.8],\n",
    "                        [4.1, 2.2, 3.9, 4.8],\n",
    "                        [2.8, 1.9, 4.5, 3.2]])\n",
    "\n",
    "\n",
    "row_means = np.mean(data_sensor, axis=1)\n",
    "row_stds = np.std(data_sensor, axis=1)\n",
    "\n",
    "\n",
    "data_standardized_row = (((data_sensor.T - row_means)) / row_stds).T\n",
    "\n",
    "\n",
    "print(\"Data Standardized by Row:\")\n",
    "print(data_standardized_row)\n"
   ]
  },
  {
   "attachments": {},
   "cell_type": "markdown",
   "metadata": {},
   "source": [
    "### 3. sum"
   ]
  },
  {
   "cell_type": "code",
   "execution_count": 35,
   "metadata": {},
   "outputs": [
    {
     "name": "stdout",
     "output_type": "stream",
     "text": [
      "sum 36.3\n"
     ]
    }
   ],
   "source": [
    "total_sum = np.sum(data_sensor)\n",
    "print(\"sum\",total_sum)"
   ]
  },
  {
   "attachments": {},
   "cell_type": "markdown",
   "metadata": {},
   "source": [
    "###  4. column sum"
   ]
  },
  {
   "cell_type": "code",
   "execution_count": 36,
   "metadata": {},
   "outputs": [
    {
     "name": "stdout",
     "output_type": "stream",
     "text": [
      "sum :  [ 8.1  7.6 10.8  9.8]\n"
     ]
    }
   ],
   "source": [
    "column_sums  = np.sum(data_sensor,axis=0)\n",
    "print(\"sum : \",column_sums )"
   ]
  },
  {
   "attachments": {},
   "cell_type": "markdown",
   "metadata": {},
   "source": [
    "###  5. Row sum"
   ]
  },
  {
   "cell_type": "code",
   "execution_count": 37,
   "metadata": {},
   "outputs": [
    {
     "name": "stdout",
     "output_type": "stream",
     "text": [
      "sum :  [ 8.9 15.  12.4]\n"
     ]
    }
   ],
   "source": [
    "Row_sums  = np.sum(data_sensor,axis=1)\n",
    "print(\"sum : \",Row_sums )"
   ]
  },
  {
   "attachments": {},
   "cell_type": "markdown",
   "metadata": {},
   "source": [
    "### 6 . hstack"
   ]
  },
  {
   "cell_type": "code",
   "execution_count": 38,
   "metadata": {},
   "outputs": [
    {
     "name": "stdout",
     "output_type": "stream",
     "text": [
      "[[ 1.2         3.5         2.4         1.8        -1.26472371  1.39204455\n",
      "  -1.35873244 -1.19664225]\n",
      " [ 4.1         2.2         3.9         4.8         1.1804088  -0.48001536\n",
      "   0.33968311  1.25103507]\n",
      " [ 2.8         1.9         4.5         3.2         0.08431491 -0.91202919\n",
      "   1.01904933 -0.05439283]]\n"
     ]
    }
   ],
   "source": [
    "data_combined = np.hstack((data_sensor, data_standardized))\n",
    "print(data_combined)"
   ]
  },
  {
   "attachments": {},
   "cell_type": "markdown",
   "metadata": {},
   "source": [
    "### 7. divide into 3 array"
   ]
  },
  {
   "cell_type": "code",
   "execution_count": 39,
   "metadata": {},
   "outputs": [
    {
     "name": "stdout",
     "output_type": "stream",
     "text": [
      "Array A:\n",
      "[[1.2 3.5]\n",
      " [4.1 2.2]\n",
      " [2.8 1.9]]\n",
      "Array B:\n",
      "[[2.4 1.8]\n",
      " [3.9 4.8]\n",
      " [4.5 3.2]]\n",
      "Array C:\n",
      "[[-1.26472371  1.39204455 -1.35873244 -1.19664225]\n",
      " [ 1.1804088  -0.48001536  0.33968311  1.25103507]\n",
      " [ 0.08431491 -0.91202919  1.01904933 -0.05439283]]\n"
     ]
    }
   ],
   "source": [
    "num_columns = data_combined.shape[1]\n",
    "\n",
    "# Split into three arrays\n",
    "split_size = num_columns // 3\n",
    "A = data_combined[:, :split_size]\n",
    "B = data_combined[:, split_size:2 * split_size]\n",
    "C = data_combined[:, 2 * split_size:]\n",
    "\n",
    "# Display arrays A, B, and C\n",
    "print(\"Array A:\")\n",
    "print(A)\n",
    "print(\"Array B:\")\n",
    "print(B)\n",
    "print(\"Array C:\")\n",
    "print(C)"
   ]
  },
  {
   "attachments": {},
   "cell_type": "markdown",
   "metadata": {},
   "source": [
    "### 8 . Dot"
   ]
  },
  {
   "cell_type": "code",
   "execution_count": 41,
   "metadata": {},
   "outputs": [
    {
     "name": "stdout",
     "output_type": "stream",
     "text": [
      "Matrix Product:\n",
      "[[26.09 18.54 31.47 30.8 ]\n",
      " [18.54 20.7  25.53 22.94]\n",
      " [31.47 25.53 41.22 37.44]\n",
      " [30.8  22.94 37.44 36.52]]\n"
     ]
    }
   ],
   "source": [
    "data_sensor_transpose = data_sensor.T\n",
    "\n",
    "product_matrix = np.dot(data_sensor_transpose, data_sensor)\n",
    "\n",
    "# Display \n",
    "print(\"Matrix Product:\")\n",
    "print(product_matrix)"
   ]
  },
  {
   "attachments": {},
   "cell_type": "markdown",
   "metadata": {},
   "source": [
    "### 9. log"
   ]
  },
  {
   "cell_type": "code",
   "execution_count": 42,
   "metadata": {},
   "outputs": [
    {
     "name": "stdout",
     "output_type": "stream",
     "text": [
      "Array data_log:\n",
      "[[0.18232156 1.25276297 0.87546874 0.58778666]\n",
      " [1.41098697 0.78845736 1.36097655 1.56861592]\n",
      " [1.02961942 0.64185389 1.5040774  1.16315081]]\n"
     ]
    }
   ],
   "source": [
    "data_log = np.log(data_sensor)\n",
    "\n",
    "\n",
    "print(\"Array data_log:\")\n",
    "print(data_log)\n",
    "\n"
   ]
  },
  {
   "attachments": {},
   "cell_type": "markdown",
   "metadata": {},
   "source": [
    "### exp"
   ]
  },
  {
   "cell_type": "code",
   "execution_count": 44,
   "metadata": {},
   "outputs": [
    {
     "name": "stdout",
     "output_type": "stream",
     "text": [
      "[[  3.32011692  33.11545196  11.02317638   6.04964746]\n",
      " [ 60.3402876    9.0250135   49.40244911 121.51041752]\n",
      " [ 16.44464677   6.68589444  90.0171313   24.5325302 ]]\n"
     ]
    }
   ],
   "source": [
    "combined_data = np.exp(data_sensor) \n",
    "print(combined_data)"
   ]
  },
  {
   "attachments": {},
   "cell_type": "markdown",
   "metadata": {},
   "source": [
    "### 10 . vstack"
   ]
  },
  {
   "cell_type": "code",
   "execution_count": 45,
   "metadata": {},
   "outputs": [
    {
     "name": "stdout",
     "output_type": "stream",
     "text": [
      "Array data_stacked:\n",
      "[[1.2 3.5 2.4 1.8]\n",
      " [4.1 2.2 3.9 4.8]\n",
      " [2.8 1.9 4.5 3.2]\n",
      " [1.2 3.5 2.4 1.8]\n",
      " [4.1 2.2 3.9 4.8]\n",
      " [2.8 1.9 4.5 3.2]]\n",
      "Array 1_split:\n",
      "[[1.2 3.5 2.4 1.8]]\n",
      "Array 2_split:\n",
      "[[4.1 2.2 3.9 4.8]\n",
      " [2.8 1.9 4.5 3.2]]\n"
     ]
    }
   ],
   "source": [
    "data_stacked = np.vstack((data_sensor, data_sensor))\n",
    "\n",
    "# Split the data_sensor array into two arrays, 1_split and 2_split\n",
    "split_size = len(data_sensor) // 2\n",
    "split_1 = data_sensor[:split_size, :]\n",
    "split_2 = data_sensor[split_size:, :]\n",
    "\n",
    "# Display the arrays\n",
    "print(\"Array data_stacked:\")\n",
    "print(data_stacked)\n",
    "\n",
    "print(\"Array 1_split:\")\n",
    "print(split_1)\n",
    "\n",
    "print(\"Array 2_split:\")\n",
    "print(split_2)"
   ]
  }
 ],
 "metadata": {
  "kernelspec": {
   "display_name": "base",
   "language": "python",
   "name": "python3"
  },
  "language_info": {
   "codemirror_mode": {
    "name": "ipython",
    "version": 3
   },
   "file_extension": ".py",
   "mimetype": "text/x-python",
   "name": "python",
   "nbconvert_exporter": "python",
   "pygments_lexer": "ipython3",
   "version": "3.11.4"
  },
  "orig_nbformat": 4
 },
 "nbformat": 4,
 "nbformat_minor": 2
}
