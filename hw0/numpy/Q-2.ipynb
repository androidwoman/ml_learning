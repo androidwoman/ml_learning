{
 "cells": [
  {
   "attachments": {},
   "cell_type": "markdown",
   "metadata": {},
   "source": [
    "<h1> Question 2 <h1>"
   ]
  },
  {
   "cell_type": "code",
   "execution_count": 1,
   "metadata": {},
   "outputs": [],
   "source": [
    "import numpy as np"
   ]
  },
  {
   "attachments": {},
   "cell_type": "markdown",
   "metadata": {},
   "source": [
    "create 10*10 matrix"
   ]
  },
  {
   "cell_type": "code",
   "execution_count": 2,
   "metadata": {},
   "outputs": [
    {
     "name": "stdout",
     "output_type": "stream",
     "text": [
      "[[ 1  1  6  7  7 10  4  3  6  7]\n",
      " [ 3 10  9 10  5  2  3  1  1  8]\n",
      " [ 2  6  5  6  8  4  4  8  1 10]\n",
      " [ 5  3  5  8  6  4  3  6 10 10]\n",
      " [ 8  1  1  1  4 10  8  8  9  6]\n",
      " [ 3  1  4  3 10  2  6  6  9 10]\n",
      " [10  3  4  8  4  5  2  8 10  6]\n",
      " [ 4  4  7  3  2  4  3  4  3  9]\n",
      " [ 3  2  9  4  5  9  6  3  2  4]\n",
      " [ 9  2  7  1  5  6  8  3  3  9]]\n"
     ]
    }
   ],
   "source": [
    "random_matrix = np.random.randint(1, 11, size=(10, 10))\n",
    "\n",
    "print(random_matrix)"
   ]
  },
  {
   "attachments": {},
   "cell_type": "markdown",
   "metadata": {},
   "source": [
    " find column_sums\n"
   ]
  },
  {
   "cell_type": "code",
   "execution_count": 4,
   "metadata": {},
   "outputs": [
    {
     "name": "stdout",
     "output_type": "stream",
     "text": [
      "[48 33 57 51 56 56 47 50 54 79]\n"
     ]
    }
   ],
   "source": [
    "\n",
    "column_sums = np.sum(random_matrix, axis=0)\n",
    "print(column_sums)\n",
    "\n"
   ]
  },
  {
   "attachments": {},
   "cell_type": "markdown",
   "metadata": {},
   "source": [
    " find row_sums\n"
   ]
  },
  {
   "cell_type": "code",
   "execution_count": 5,
   "metadata": {},
   "outputs": [
    {
     "name": "stdout",
     "output_type": "stream",
     "text": [
      "[52 52 54 60 56 54 60 43 47 53]\n"
     ]
    }
   ],
   "source": [
    "\n",
    "row_sums = np.sum(random_matrix, axis=1)\n",
    "\n",
    "print(row_sums)"
   ]
  }
 ],
 "metadata": {
  "kernelspec": {
   "display_name": "base",
   "language": "python",
   "name": "python3"
  },
  "language_info": {
   "codemirror_mode": {
    "name": "ipython",
    "version": 3
   },
   "file_extension": ".py",
   "mimetype": "text/x-python",
   "name": "python",
   "nbconvert_exporter": "python",
   "pygments_lexer": "ipython3",
   "version": "3.11.4"
  },
  "orig_nbformat": 4
 },
 "nbformat": 4,
 "nbformat_minor": 2
}
