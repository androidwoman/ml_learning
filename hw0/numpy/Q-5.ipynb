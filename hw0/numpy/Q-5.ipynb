{
 "cells": [
  {
   "attachments": {},
   "cell_type": "markdown",
   "metadata": {},
   "source": [
    "# Question 5"
   ]
  },
  {
   "attachments": {},
   "cell_type": "markdown",
   "metadata": {},
   "source": [
    "### 1. create 100 number between 0  an 1"
   ]
  },
  {
   "cell_type": "code",
   "execution_count": 3,
   "metadata": {},
   "outputs": [],
   "source": [
    "import numpy as np"
   ]
  },
  {
   "cell_type": "code",
   "execution_count": 9,
   "metadata": {},
   "outputs": [
    {
     "name": "stdout",
     "output_type": "stream",
     "text": [
      "[0.         0.01010101 0.02020202 0.03030303 0.04040404 0.05050505\n",
      " 0.06060606 0.07070707 0.08080808 0.09090909 0.1010101  0.11111111\n",
      " 0.12121212 0.13131313 0.14141414 0.15151515 0.16161616 0.17171717\n",
      " 0.18181818 0.19191919 0.2020202  0.21212121 0.22222222 0.23232323\n",
      " 0.24242424 0.25252525 0.26262626 0.27272727 0.28282828 0.29292929\n",
      " 0.3030303  0.31313131 0.32323232 0.33333333 0.34343434 0.35353535\n",
      " 0.36363636 0.37373737 0.38383838 0.39393939 0.4040404  0.41414141\n",
      " 0.42424242 0.43434343 0.44444444 0.45454545 0.46464646 0.47474747\n",
      " 0.48484848 0.49494949 0.50505051 0.51515152 0.52525253 0.53535354\n",
      " 0.54545455 0.55555556 0.56565657 0.57575758 0.58585859 0.5959596\n",
      " 0.60606061 0.61616162 0.62626263 0.63636364 0.64646465 0.65656566\n",
      " 0.66666667 0.67676768 0.68686869 0.6969697  0.70707071 0.71717172\n",
      " 0.72727273 0.73737374 0.74747475 0.75757576 0.76767677 0.77777778\n",
      " 0.78787879 0.7979798  0.80808081 0.81818182 0.82828283 0.83838384\n",
      " 0.84848485 0.85858586 0.86868687 0.87878788 0.88888889 0.8989899\n",
      " 0.90909091 0.91919192 0.92929293 0.93939394 0.94949495 0.95959596\n",
      " 0.96969697 0.97979798 0.98989899 1.        ]\n"
     ]
    }
   ],
   "source": [
    "num_elements = 100\n",
    "start = 0\n",
    "end = 1\n",
    "equal_spacing_array = np.linspace(start, end, num_elements)\n",
    "\n",
    "# Display the array\n",
    "print(equal_spacing_array)"
   ]
  },
  {
   "attachments": {},
   "cell_type": "markdown",
   "metadata": {},
   "source": [
    "### 2. cosine_similarity"
   ]
  },
  {
   "cell_type": "code",
   "execution_count": 18,
   "metadata": {},
   "outputs": [
    {
     "name": "stdout",
     "output_type": "stream",
     "text": [
      "Cosine Similarity: 0.9746318461970762\n"
     ]
    }
   ],
   "source": [
    "def cosine_similarity(vector_a, vector_b):\n",
    "    dot_product = np.dot(vector_a, vector_b)\n",
    "    norm_a = np.linalg.norm(vector_a)\n",
    "    norm_b = np.linalg.norm(vector_b)\n",
    "    similarity = dot_product / (norm_a * norm_b)\n",
    "    return similarity\n",
    "\n",
    "#example\n",
    "vector1 = np.array([1, 2, 3])\n",
    "vector2 = np.array([4, 5, 6])\n",
    "\n",
    "similarity = cosine_similarity(vector1, vector2)\n",
    "print(f\"Cosine Similarity: {similarity}\")"
   ]
  },
  {
   "attachments": {},
   "cell_type": "markdown",
   "metadata": {},
   "source": [
    "### 3. age index"
   ]
  },
  {
   "cell_type": "code",
   "execution_count": 19,
   "metadata": {},
   "outputs": [
    {
     "name": "stdout",
     "output_type": "stream",
     "text": [
      "[25 20 18 30 22 28]\n"
     ]
    }
   ],
   "source": [
    "# Create a NumPy array containing the ages of a group of people\n",
    "ages = np.array([25, 32, 20, 18, 30, 35, 22, 28, 16, 40])\n",
    "\n",
    "# Define a logical condition to filter ages between 18 and 30\n",
    "logical_indices = (ages >= 18) & (ages <= 30)\n",
    "\n",
    "\n",
    "selected_ages = ages[logical_indices]\n",
    "print(selected_ages)"
   ]
  },
  {
   "attachments": {},
   "cell_type": "markdown",
   "metadata": {},
   "source": [
    "### 4. check cumulative sum"
   ]
  },
  {
   "cell_type": "code",
   "execution_count": 28,
   "metadata": {},
   "outputs": [
    {
     "name": "stdout",
     "output_type": "stream",
     "text": [
      "Time taken for the for loop approach: 0.18387540000003355 seconds\n",
      "Time taken for the cumulativeSum time approach: 0.008232500000303844 seconds\n"
     ]
    }
   ],
   "source": [
    "import timeit\n",
    "\n",
    "large_array = np.random.rand(1000000)\n",
    "\n",
    "# Calculate cumulative sum using a for loop\n",
    "def sum_with_for_loop(arr):\n",
    "    result = 0\n",
    "    for num in arr:\n",
    "        result += num\n",
    "    return result\n",
    "\n",
    "# Calculate cumulative sum using a vectorized approach\n",
    "def sum_with_cumulativeSum(arr):\n",
    "    return np.cumsum(arr)\n",
    "\n",
    "# Measure the execution time of the for loop approach\n",
    "for_loop_time = timeit.timeit('sum_with_for_loop(large_array)', globals=globals(), number=1)\n",
    "\n",
    "# Measure the execution time of the vectorized approach\n",
    "cumulativeSum_time = timeit.timeit('sum_with_cumulativeSum(large_array)', globals=globals(), number=1)\n",
    "\n",
    "print(f\"Time taken for the for loop approach: {for_loop_time} seconds\")\n",
    "print(f\"Time taken for the cumulativeSum time approach: {cumulativeSum_time} seconds\")"
   ]
  },
  {
   "attachments": {},
   "cell_type": "markdown",
   "metadata": {},
   "source": [
    "### 5. binery mask"
   ]
  },
  {
   "cell_type": "code",
   "execution_count": 30,
   "metadata": {},
   "outputs": [
    {
     "name": "stdout",
     "output_type": "stream",
     "text": [
      "[[False  True  True False]\n",
      " [False  True  True  True]\n",
      " [False False False  True]]\n"
     ]
    }
   ],
   "source": [
    "\n",
    "intensity_image = np.array([[100, 150, 200, 50],\n",
    "                            [75, 180, 120, 220],\n",
    "                            [30, 90, 60, 170]])\n",
    "\n",
    "# Minimum threshold \n",
    "threshold = 100\n",
    "\n",
    "# Create a binary mask\n",
    "binary_mask = np.greater(intensity_image, threshold)\n",
    "\n",
    "print(binary_mask)"
   ]
  },
  {
   "attachments": {},
   "cell_type": "markdown",
   "metadata": {},
   "source": [
    "### 6. SVD"
   ]
  },
  {
   "cell_type": "code",
   "execution_count": 34,
   "metadata": {},
   "outputs": [
    {
     "name": "stdout",
     "output_type": "stream",
     "text": [
      "[[0.17807744 0.92633902 0.84409519 ... 0.28923234 0.6993527  0.23039155]\n",
      " [0.5886095  0.46277642 0.45663114 ... 0.61796199 0.34842949 0.48346788]\n",
      " [0.4522074  0.60179385 0.70011677 ... 0.53475454 0.81542011 0.77641191]\n",
      " ...\n",
      " [0.74052023 0.34630792 0.91755738 ... 0.77353749 0.71611046 0.71199253]\n",
      " [0.29372178 0.9237702  0.78880819 ... 0.55638273 0.82549268 0.18545507]\n",
      " [0.42926498 0.54045102 0.25781662 ... 0.5905072  0.21283862 0.5441559 ]]\n"
     ]
    }
   ],
   "source": [
    "import numpy as np\n",
    "\n",
    "\n",
    "np.random.seed(0)\n",
    "data = np.random.rand(100, 100)  # Original dataset\n",
    "\n",
    "\n",
    "# Perform Singular Value Decomposition (SVD)\n",
    "U, S, VT = np.linalg.svd(data, full_matrices=False)\n",
    "\n",
    "\n",
    "new_dimension = 10\n",
    "\n",
    "# Create a dimension-reduced matrix by selecting the first 'new_dimension' columns of 'U' and 'VT'\n",
    "reduced_data = np.dot(U[:, :new_dimension], np.dot(np.diag(S[:new_dimension]), VT[:new_dimension, :]))\n",
    "\n",
    "print(reduced_data)\n"
   ]
  },
  {
   "attachments": {},
   "cell_type": "markdown",
   "metadata": {},
   "source": [
    "### 7. pearson_correlation"
   ]
  },
  {
   "cell_type": "code",
   "execution_count": 35,
   "metadata": {},
   "outputs": [
    {
     "name": "stdout",
     "output_type": "stream",
     "text": [
      "Pearson Correlation: 0.9999999999999998\n"
     ]
    }
   ],
   "source": [
    "import numpy as np\n",
    "\n",
    "def pearson_correlation(x, y):\n",
    "    # Calculate the means of the data\n",
    "    mean_x = np.mean(x)\n",
    "    mean_y = np.mean(y)\n",
    "    \n",
    "    # Calculate the numerator, the sum of cross-deviations from the mean\n",
    "    numerator = np.sum((x - mean_x) * (y - mean_y))\n",
    "    \n",
    "    # Calculate the denominators, the square root of the sum of squared deviations from the mean for both arrays\n",
    "    denominator_x = np.sqrt(np.sum((x - mean_x) ** 2))\n",
    "    denominator_y = np.sqrt(np.sum((y - mean_y) ** 2))\n",
    "    \n",
    "    # Calculate the Pearson correlation coefficient\n",
    "    r = numerator / (denominator_x * denominator_y)\n",
    "    \n",
    "    return r\n",
    "\n",
    "# Example: Two real data series\n",
    "data_series1 = np.array([1, 2, 3, 4, 5])\n",
    "data_series2 = np.array([2, 3, 4, 5, 6])\n",
    "\n",
    "# Calculate the Pearson correlation coefficient between two data series\n",
    "correlation = pearson_correlation(data_series1, data_series2)\n",
    "\n",
    "print(f\"Pearson Correlation: {correlation}\")\n"
   ]
  },
  {
   "attachments": {},
   "cell_type": "markdown",
   "metadata": {},
   "source": [
    "### 8. read CSV"
   ]
  },
  {
   "cell_type": "code",
   "execution_count": 10,
   "metadata": {},
   "outputs": [
    {
     "name": "stdout",
     "output_type": "stream",
     "text": [
      "CSV data has been read and saved as a binary file.\n"
     ]
    }
   ],
   "source": [
    "\n",
    "\n",
    "# Name of the CSV file\n",
    "csv_file = \"city.csv\"\n",
    "\n",
    "# Reading data from the CSV file using NumPy's loadtxt function\n",
    "data = np.loadtxt(csv_file, delimiter=',', dtype=str)\n",
    "\n",
    "# # Extracting the numeric values from the loaded data\n",
    "numeric_data = data.astype(float)\n",
    "\n",
    "# # Saving the numeric data as a NumPy array\n",
    "binary_file = \"binery.npy\"\n",
    "np.save(binary_file, numeric_data)\n",
    "\n",
    "\n",
    "print(\"CSV data has been read and saved as a binary file.\")\n"
   ]
  },
  {
   "attachments": {},
   "cell_type": "markdown",
   "metadata": {},
   "source": [
    "### 9 . Fourier transform "
   ]
  },
  {
   "cell_type": "code",
   "execution_count": 13,
   "metadata": {},
   "outputs": [
    {
     "name": "stdout",
     "output_type": "stream",
     "text": [
      "Magnitude : [7.         3.55764729 3.60555128 1.15894165 1.         1.15894165\n",
      " 3.60555128 3.55764729]\n",
      "Frequency : [     0.    5512.5  11025.   16537.5 -22050.  -16537.5 -11025.   -5512.5]\n"
     ]
    }
   ],
   "source": [
    "import numpy as np\n",
    "import matplotlib.pyplot as plt\n",
    "\n",
    "def analyze_audio_signal(audio_signal, sample_rate):\n",
    "    # Perform the Fourier transform \n",
    "    signal_length = len(audio_signal)\n",
    "    fft_result = np.fft.fft(audio_signal)\n",
    "    freq = np.fft.fftfreq(signal_length, 1 / sample_rate)\n",
    "\n",
    "    # Calculate the magnitude \n",
    "    magnitude = np.abs(fft_result)\n",
    "    print(\"Magnitude :\",magnitude,)\n",
    "    print(\"Frequency :\",freq)\n",
    "\n",
    "   \n",
    "audio_signal = np.array([1.0, 2.0, 1.0, -1.0, 0.0, 1.0, 2.0, 1.0])\n",
    "sample_rate = 44100  \n",
    "\n",
    "analyze_audio_signal(audio_signal, sample_rate)\n"
   ]
  }
 ],
 "metadata": {
  "kernelspec": {
   "display_name": "myenv",
   "language": "python",
   "name": "python3"
  },
  "language_info": {
   "codemirror_mode": {
    "name": "ipython",
    "version": 3
   },
   "file_extension": ".py",
   "mimetype": "text/x-python",
   "name": "python",
   "nbconvert_exporter": "python",
   "pygments_lexer": "ipython3",
   "version": "3.11.4"
  },
  "orig_nbformat": 4
 },
 "nbformat": 4,
 "nbformat_minor": 2
}
