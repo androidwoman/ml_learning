{
 "cells": [
  {
   "cell_type": "code",
   "execution_count": 1,
   "metadata": {},
   "outputs": [],
   "source": [
    "import pandas as pd"
   ]
  },
  {
   "cell_type": "code",
   "execution_count": 2,
   "metadata": {},
   "outputs": [
    {
     "name": "stdout",
     "output_type": "stream",
     "text": [
      "food:                   name                                        ingredients  \\\n",
      "0           Balu shahi                    Maida flour, yogurt, oil, sugar   \n",
      "1               Boondi                            Gram flour, ghee, sugar   \n",
      "2       Gajar ka halwa       Carrots, milk, sugar, ghee, cashews, raisins   \n",
      "3               Ghevar  Flour, ghee, kewra, milk, clarified butter, su...   \n",
      "4          Gulab jamun  Milk powder, plain flour, baking powder, ghee,...   \n",
      "..                 ...                                                ...   \n",
      "175  Prawn malai curry      Coconut milk, prawns, garlic, turmeric, sugar   \n",
      "176             Shukto  Green beans, bitter gourd, ridge gourd, banana...   \n",
      "177          Til Pitha            Glutinous rice, black sesame seeds, gur   \n",
      "178            Bebinca  Coconut milk, egg yolks, clarified butter, all...   \n",
      "179          Mawa Bati  Milk powder, dry fruits, arrowroot powder, all...   \n",
      "\n",
      "               diet  prep_time  cook_time flavor_profile       course  \\\n",
      "0        vegetarian       45.0       25.0          sweet      dessert   \n",
      "1        vegetarian       80.0       30.0          sweet      dessert   \n",
      "2        vegetarian       15.0       60.0          sweet      dessert   \n",
      "3        vegetarian       15.0       30.0          sweet      dessert   \n",
      "4        vegetarian       15.0       40.0          sweet      dessert   \n",
      "..              ...        ...        ...            ...          ...   \n",
      "175  non vegetarian       15.0       50.0          spicy  main course   \n",
      "176      vegetarian       10.0       20.0          spicy  main course   \n",
      "177      vegetarian        5.0       30.0          sweet      dessert   \n",
      "178      vegetarian       20.0       60.0          sweet      dessert   \n",
      "179      vegetarian       20.0       45.0          sweet      dessert   \n",
      "\n",
      "              state      region  \n",
      "0       West Bengal        East  \n",
      "1         Rajasthan        West  \n",
      "2            Punjab       North  \n",
      "3         Rajasthan        West  \n",
      "4       West Bengal        East  \n",
      "..              ...         ...  \n",
      "175     West Bengal        East  \n",
      "176     West Bengal        East  \n",
      "177           Assam  North East  \n",
      "178             Goa        West  \n",
      "179  Madhya Pradesh     Central  \n",
      "\n",
      "[180 rows x 9 columns]\n"
     ]
    }
   ],
   "source": [
    "## load datafram\n",
    "df = pd.read_csv('food.csv')\n",
    "\n",
    "print(\"food:\",df)"
   ]
  },
  {
   "attachments": {},
   "cell_type": "markdown",
   "metadata": {},
   "source": [
    "# 1:"
   ]
  },
  {
   "cell_type": "code",
   "execution_count": 3,
   "metadata": {},
   "outputs": [
    {
     "name": "stdout",
     "output_type": "stream",
     "text": [
      "count_spicy: 102\n",
      "Ratio of spicy dishes to total dishes is: 0.5666666666666667\n"
     ]
    }
   ],
   "source": [
    "# Count the number of entries in the 'flavor_profile' column\n",
    "count_spicy = df['flavor_profile'].value_counts()['spicy'] # Number of spicy dishes\n",
    "print(\"count_spicy:\", count_spicy)\n",
    "spicy_ratio = count_spicy / len(df)\n",
    "# Ratio of spicy dishes to the total number of dishes\n",
    "print(\"Ratio of spicy dishes to total dishes is:\", spicy_ratio)\n"
   ]
  },
  {
   "attachments": {},
   "cell_type": "markdown",
   "metadata": {},
   "source": [
    "# 2:"
   ]
  },
  {
   "cell_type": "code",
   "execution_count": 4,
   "metadata": {},
   "outputs": [
    {
     "name": "stdout",
     "output_type": "stream",
     "text": [
      "df_most_time_consuming:\n",
      "                     name  sum_time\n",
      "56             Shrikhand     730.0\n",
      "99           Pindi chana     620.0\n",
      "23             Misti doi     510.0\n",
      "42              Poornalu     300.0\n",
      "59        Chak Hao Kheer     285.0\n",
      "104     Tandoori Chicken     270.0\n",
      "105  Tandoori Fish Tikka     270.0\n",
      "40        Obbattu holige     240.0\n",
      "27             Ras malai     240.0\n",
      "106                 Attu     175.0\n",
      "73         Chicken Tikka     165.0\n",
      "68               Biryani     150.0\n",
      "110             Idiappam     150.0\n",
      "122            Pesarattu     140.0\n",
      "21               Malapua     130.0\n"
     ]
    }
   ],
   "source": [
    "\n",
    "\n",
    "# Calculate the sum of preparation and cooking times and store it in the 'sum_time' column\n",
    "df['sum_time'] = df['prep_time'] + df['cook_time']  # Sum of preparation and cooking times\n",
    "\n",
    "# Get the 15 most time-consuming dishes\n",
    "df_most_time_consuming = df[['name', 'sum_time']].sort_values(by=['sum_time'], ascending=False)[0:15]\n",
    "\n",
    "# Print the DataFrame with the most time-consuming dishes\n",
    "print(\"df_most_time_consuming:\\n\", df_most_time_consuming)\n"
   ]
  }
 ],
 "metadata": {
  "kernelspec": {
   "display_name": "myenv",
   "language": "python",
   "name": "python3"
  },
  "language_info": {
   "codemirror_mode": {
    "name": "ipython",
    "version": 3
   },
   "file_extension": ".py",
   "mimetype": "text/x-python",
   "name": "python",
   "nbconvert_exporter": "python",
   "pygments_lexer": "ipython3",
   "version": "3.10.13"
  },
  "orig_nbformat": 4
 },
 "nbformat": 4,
 "nbformat_minor": 2
}
