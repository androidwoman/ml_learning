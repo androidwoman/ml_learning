{
 "cells": [
  {
   "cell_type": "code",
   "execution_count": 1,
   "metadata": {},
   "outputs": [],
   "source": [
    "import joblib"
   ]
  },
  {
   "cell_type": "code",
   "execution_count": 2,
   "metadata": {},
   "outputs": [
    {
     "name": "stdout",
     "output_type": "stream",
     "text": [
      "           owner_name   follower  following  post_number\n",
      "0   Muhammad Schaefer  108751787         45           61\n",
      "1           Ezra Kemp  172731383         71           43\n",
      "2            Eli Good  105194939         20           44\n",
      "3    Lillianna Pruitt   14807976         11           88\n",
      "4     Carlie Woodward  228517005         68           52\n",
      "..                ...        ...        ...          ...\n",
      "95      Alaina Cortez  206571647         83           82\n",
      "96         Aiyana Orr  246069137         85           44\n",
      "97        Damien Mack  175172516         84           58\n",
      "98    Santino Shelton  103682240         86           71\n",
      "99         Ezra Booth  296470673         49           89\n",
      "\n",
      "[100 rows x 4 columns]\n"
     ]
    }
   ],
   "source": [
    "df = joblib.load('df')\n",
    "print(df)"
   ]
  },
  {
   "attachments": {},
   "cell_type": "markdown",
   "metadata": {},
   "source": [
    "# 1:"
   ]
  },
  {
   "cell_type": "code",
   "execution_count": 3,
   "metadata": {},
   "outputs": [
    {
     "name": "stdout",
     "output_type": "stream",
     "text": [
      "Energy category:\n",
      "         owner_name   follower  following  post_number\n",
      "55  Dexter Salazar  265575683         10           54\n",
      "71     Eden Walter   50414607         10           82\n",
      "Length of the 'energy' category:\t 2\n"
     ]
    }
   ],
   "source": [
    "# Filter rows in the DataFrame where 'following' is less than 11\n",
    "energy = df.loc[df['following'] < 11]\n",
    "\n",
    "# Print the filtered 'energy' category\n",
    "print(\"Energy category:\\n\", energy)\n",
    "\n",
    "# Print the length of the 'energy' DataFrame\n",
    "print(\"Length of the 'energy' category:\\t\", len(energy))\n"
   ]
  },
  {
   "attachments": {},
   "cell_type": "markdown",
   "metadata": {},
   "source": [
    "# 2:"
   ]
  },
  {
   "cell_type": "code",
   "execution_count": 5,
   "metadata": {},
   "outputs": [
    {
     "name": "stdout",
     "output_type": "stream",
     "text": [
      "Mesi category:\n",
      "             owner_name   follower  following  post_number\n",
      "0    Muhammad Schaefer  108751787         45           61\n",
      "2             Eli Good  105194939         20           44\n",
      "3     Lillianna Pruitt   14807976         11           88\n",
      "6      Abbey Patterson  117816608         65           98\n",
      "8        Teagan Newman  145440825         39           85\n",
      "9     Bianca Velazquez  184433225         72           91\n",
      "10         Emely Olsen  197123487         43           58\n",
      "12       Ivan Randolph  233996265         31           45\n",
      "13      Priscilla Shea   23888252         69           72\n",
      "14         Ryan Berger  107802883         85           91\n",
      "16      Kira Castaneda  246047852         12           63\n",
      "17   Kadence Henderson   77927317         53           57\n",
      "18      Timothy Fowler  224887843         50           73\n",
      "19      Precious Ramos   48236154         34           76\n",
      "24     Charles Morales  222955873         12           38\n",
      "27    Hailee Armstrong  313687859         55           94\n",
      "29     Gabriel Calhoun  132769603         16           58\n",
      "39      Harper Hensley  224837846         57           59\n",
      "40         Alexia Moss  314936599         17           48\n",
      "41        Boston Stout  293331811         13           56\n",
      "43        Khalil Bryan  279582669         48           84\n",
      "44      Jakobe Schultz  136273816         34           82\n",
      "47       Zachery Keith   34037577         47           49\n",
      "49  Yasmine Hutchinson  181380421         13           98\n",
      "50        Marlee Moyer  224912384         36           95\n",
      "52        Mylie Prince  172675476         18           43\n",
      "54    Esmeralda Henson  240302137         65           96\n",
      "55      Dexter Salazar  265575683         10           54\n",
      "56         Jamie Oneal  252094671         12           41\n",
      "59        Corey Hansen   10389852         28           63\n",
      "62      Lilah Whitaker   95378667         31           49\n",
      "64       Britney James  161446658         41           93\n",
      "71         Eden Walter   50414607         10           82\n",
      "78          Kian Hanna   79265883         21           24\n",
      "79      Claire Salinas  239596097         49           66\n",
      "81          Harper Day  151388804         34           59\n",
      "82         Hope Becker   68662078         28           83\n",
      "86       Nasir Mcgrath  107737269         12           99\n",
      "87       Blaine Greene   17519059         83           88\n",
      "88        Janet Knight  137375221         18           26\n",
      "89        Lana Hensley  151213150         49           80\n",
      "90     Destiney Orozco  250085334         61           72\n",
      "92      Leslie Salinas  276001851         65           89\n",
      "94      Reyna Copeland  214443881         44           89\n",
      "99          Ezra Booth  296470673         49           89\n",
      "Length of the 'mesi' category:\t 45\n"
     ]
    }
   ],
   "source": [
    "# Filter rows in the DataFrame where 'following' is less than 'post_number'\n",
    "mesi = df.loc[df['following'] < df['post_number']]\n",
    "\n",
    "# Print the filtered 'mesi' category\n",
    "print(\"Mesi category:\\n\", mesi)\n",
    "\n",
    "# Print the length of the 'mesi' DataFrame\n",
    "print(\"Length of the 'mesi' category:\\t\", len(mesi))\n"
   ]
  },
  {
   "attachments": {},
   "cell_type": "markdown",
   "metadata": {},
   "source": [
    "# 3:"
   ]
  },
  {
   "cell_type": "code",
   "execution_count": 7,
   "metadata": {},
   "outputs": [
    {
     "name": "stdout",
     "output_type": "stream",
     "text": [
      "Bronze category:\n",
      "            owner_name   follower  following  post_number\n",
      "0   Muhammad Schaefer  108751787         45           61\n",
      "1           Ezra Kemp  172731383         71           43\n",
      "2            Eli Good  105194939         20           44\n",
      "3    Lillianna Pruitt   14807976         11           88\n",
      "4     Carlie Woodward  228517005         68           52\n",
      "..                ...        ...        ...          ...\n",
      "95      Alaina Cortez  206571647         83           82\n",
      "96         Aiyana Orr  246069137         85           44\n",
      "97        Damien Mack  175172516         84           58\n",
      "98    Santino Shelton  103682240         86           71\n",
      "99         Ezra Booth  296470673         49           89\n",
      "\n",
      "[100 rows x 4 columns]\n",
      "Length of the 'bronze' category:\t 100\n"
     ]
    }
   ],
   "source": [
    "\n",
    "\n",
    "bronze = df.loc[df['follower'] > 1000000]\n",
    "\n",
    "\n",
    "print(\"Bronze category:\\n\", bronze)\n",
    "\n",
    "\n",
    "print(\"Length of the 'bronze' category:\\t\", len(bronze))\n"
   ]
  },
  {
   "attachments": {},
   "cell_type": "markdown",
   "metadata": {},
   "source": [
    "# 4:"
   ]
  },
  {
   "cell_type": "code",
   "execution_count": 8,
   "metadata": {},
   "outputs": [
    {
     "name": "stdout",
     "output_type": "stream",
     "text": [
      "Silver category:\n",
      "             owner_name   follower  following  post_number\n",
      "0    Muhammad Schaefer  108751787         45           61\n",
      "2             Eli Good  105194939         20           44\n",
      "3     Lillianna Pruitt   14807976         11           88\n",
      "8        Teagan Newman  145440825         39           85\n",
      "10         Emely Olsen  197123487         43           58\n",
      "12       Ivan Randolph  233996265         31           45\n",
      "16      Kira Castaneda  246047852         12           63\n",
      "19      Precious Ramos   48236154         34           76\n",
      "24     Charles Morales  222955873         12           38\n",
      "29     Gabriel Calhoun  132769603         16           58\n",
      "31          Ivy Fields  234324677         49           22\n",
      "32        Jaime Stuart   71774373         48           44\n",
      "36     Demarion Suarez   63641416         12           11\n",
      "40         Alexia Moss  314936599         17           48\n",
      "41        Boston Stout  293331811         13           56\n",
      "42    Chasity Cisneros  303490848         48           36\n",
      "43        Khalil Bryan  279582669         48           84\n",
      "44      Jakobe Schultz  136273816         34           82\n",
      "47       Zachery Keith   34037577         47           49\n",
      "49  Yasmine Hutchinson  181380421         13           98\n",
      "50        Marlee Moyer  224912384         36           95\n",
      "52        Mylie Prince  172675476         18           43\n",
      "53         Raven Stone   82717282         48           16\n",
      "55      Dexter Salazar  265575683         10           54\n",
      "56         Jamie Oneal  252094671         12           41\n",
      "59        Corey Hansen   10389852         28           63\n",
      "60     Audrina Nichols  319228713         41           15\n",
      "62      Lilah Whitaker   95378667         31           49\n",
      "64       Britney James  161446658         41           93\n",
      "71         Eden Walter   50414607         10           82\n",
      "78          Kian Hanna   79265883         21           24\n",
      "79      Claire Salinas  239596097         49           66\n",
      "81          Harper Day  151388804         34           59\n",
      "82         Hope Becker   68662078         28           83\n",
      "83      Cameron Murphy  281439342         22           17\n",
      "86       Nasir Mcgrath  107737269         12           99\n",
      "88        Janet Knight  137375221         18           26\n",
      "89        Lana Hensley  151213150         49           80\n",
      "94      Reyna Copeland  214443881         44           89\n",
      "99          Ezra Booth  296470673         49           89\n",
      "Length of the 'silver' category:\t 40\n"
     ]
    }
   ],
   "source": [
    "# Silver category\n",
    "\n",
    "# Filter rows in the DataFrame where 'follower' is greater than or equal to 10,000,000 and 'following' is less than 50\n",
    "silver = df.loc[(df['follower'] >= 10000000) & (df['following'] < 50)]\n",
    "\n",
    "\n",
    "print(\"Silver category:\\n\", silver)\n",
    "\n",
    "\n",
    "print(\"Length of the 'silver' category:\\t\", len(silver))\n"
   ]
  },
  {
   "attachments": {},
   "cell_type": "markdown",
   "metadata": {},
   "source": [
    "# 5:"
   ]
  },
  {
   "cell_type": "code",
   "execution_count": 9,
   "metadata": {},
   "outputs": [
    {
     "name": "stdout",
     "output_type": "stream",
     "text": [
      "Golden category:\n",
      "             owner_name   follower  following  post_number\n",
      "3     Lillianna Pruitt   14807976         11           88\n",
      "15          Hayden Roy  248522613         79           11\n",
      "16      Kira Castaneda  246047852         12           63\n",
      "24     Charles Morales  222955873         12           38\n",
      "29     Gabriel Calhoun  132769603         16           58\n",
      "36     Demarion Suarez   63641416         12           11\n",
      "40         Alexia Moss  314936599         17           48\n",
      "41        Boston Stout  293331811         13           56\n",
      "49  Yasmine Hutchinson  181380421         13           98\n",
      "52        Mylie Prince  172675476         18           43\n",
      "55      Dexter Salazar  265575683         10           54\n",
      "56         Jamie Oneal  252094671         12           41\n",
      "71         Eden Walter   50414607         10           82\n",
      "86       Nasir Mcgrath  107737269         12           99\n",
      "88        Janet Knight  137375221         18           26\n",
      "Length of the 'golden' category:\t 15\n"
     ]
    }
   ],
   "source": [
    "# Golden category\n",
    "\n",
    "\n",
    "golden = df.loc[((df['follower'] > 10000000) & (df['following'] < 20)) | ((df['post_number'] < 15) & (df['owner_name'].str.contains('R') == True))]\n",
    "\n",
    "\n",
    "print(\"Golden category:\\n\", golden)\n",
    "\n",
    "\n",
    "print(\"Length of the 'golden' category:\\t\", len(golden))\n"
   ]
  }
 ],
 "metadata": {
  "kernelspec": {
   "display_name": "myenv",
   "language": "python",
   "name": "python3"
  },
  "language_info": {
   "codemirror_mode": {
    "name": "ipython",
    "version": 3
   },
   "file_extension": ".py",
   "mimetype": "text/x-python",
   "name": "python",
   "nbconvert_exporter": "python",
   "pygments_lexer": "ipython3",
   "version": "3.10.13"
  },
  "orig_nbformat": 4
 },
 "nbformat": 4,
 "nbformat_minor": 2
}
