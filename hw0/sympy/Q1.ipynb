{
 "cells": [
  {
   "cell_type": "code",
   "execution_count": 5,
   "metadata": {},
   "outputs": [],
   "source": [
    "from scipy import stats\n",
    "import joblib\n",
    "import pandas as pd\n"
   ]
  },
  {
   "cell_type": "code",
   "execution_count": 9,
   "metadata": {},
   "outputs": [
    {
     "name": "stdout",
     "output_type": "stream",
     "text": [
      "The average salaries of female and male professors are likely different.\n",
      "male avg is bigger.\n"
     ]
    }
   ],
   "source": [
    "\n",
    "\n",
    "# Load the DataFrame\n",
    "salaries_df = joblib.load('salaries_df')\n",
    "\n",
    "# Separate data by gender\n",
    "female_salaries = salaries_df[salaries_df['sex'] == 'Female']['salary']\n",
    "male_salaries = salaries_df[salaries_df['sex'] == 'Male']['salary']\n",
    "\n",
    "# Perform the t-test\n",
    "t_statistic, p_value = stats.ttest_ind(female_salaries, male_salaries)\n",
    "\n",
    "# Display the results\n",
    "alpha = 0.05  # Significance level\n",
    "if p_value < alpha:\n",
    "    print(\"The average salaries of female and male professors are likely different.\")\n",
    "else:\n",
    "    print(\"The average salaries of female and male professors are likely the same.\")\n",
    "\n",
    "if t_statistic >0:\n",
    "    print(\"female avg is bigger\")\n",
    "else:\n",
    "    print(\"male avg is bigger.\")\n"
   ]
  }
 ],
 "metadata": {
  "kernelspec": {
   "display_name": "myenv",
   "language": "python",
   "name": "python3"
  },
  "language_info": {
   "codemirror_mode": {
    "name": "ipython",
    "version": 3
   },
   "file_extension": ".py",
   "mimetype": "text/x-python",
   "name": "python",
   "nbconvert_exporter": "python",
   "pygments_lexer": "ipython3",
   "version": "3.10.13"
  },
  "orig_nbformat": 4
 },
 "nbformat": 4,
 "nbformat_minor": 2
}
