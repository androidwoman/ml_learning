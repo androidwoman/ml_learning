{
 "cells": [
  {
   "cell_type": "code",
   "execution_count": 1,
   "metadata": {},
   "outputs": [],
   "source": [
    "import sympy as sp "
   ]
  },
  {
   "cell_type": "code",
   "execution_count": 2,
   "metadata": {},
   "outputs": [
    {
     "name": "stdout",
     "output_type": "stream",
     "text": [
      "Gradient (First Derivative):\n",
      "[3*x**2 - 6*x, 3*y**2 - 6*y]\n",
      "Hessian (Second Derivative):\n",
      "[[6*x - 6, 0], [0, 6*y - 6]]\n"
     ]
    }
   ],
   "source": [
    "\n",
    "\n",
    "# Define symbolic variables\n",
    "x, y = sp.symbols('x y')\n",
    "\n",
    "# Define the expression\n",
    "expression = x**3 - 3*x**2 + y**3 - 3*y**2\n",
    "\n",
    "# Compute the gradient (first derivative)\n",
    "gradient = [sp.diff(expression, x), sp.diff(expression, y)]\n",
    "\n",
    "# Compute the Hessian (second derivative)\n",
    "hessian = [[sp.diff(gradient[0], x), sp.diff(gradient[0], y)],\n",
    "           [sp.diff(gradient[1], x), sp.diff(gradient[1], y)]]\n",
    "\n",
    "# Display the results\n",
    "print(\"Gradient (First Derivative):\")\n",
    "print(gradient)\n",
    "\n",
    "print(\"Hessian (Second Derivative):\")\n",
    "print(hessian)\n"
   ]
  }
 ],
 "metadata": {
  "kernelspec": {
   "display_name": "myenv",
   "language": "python",
   "name": "python3"
  },
  "language_info": {
   "codemirror_mode": {
    "name": "ipython",
    "version": 3
   },
   "file_extension": ".py",
   "mimetype": "text/x-python",
   "name": "python",
   "nbconvert_exporter": "python",
   "pygments_lexer": "ipython3",
   "version": "3.11.4"
  },
  "orig_nbformat": 4
 },
 "nbformat": 4,
 "nbformat_minor": 2
}
