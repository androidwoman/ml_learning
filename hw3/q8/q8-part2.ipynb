{
 "cells": [
  {
   "cell_type": "markdown",
   "metadata": {},
   "source": [
    "# imports"
   ]
  },
  {
   "cell_type": "code",
   "execution_count": 54,
   "metadata": {},
   "outputs": [],
   "source": [
    "import pandas as pd\n",
    "from sklearn.svm import SVR\n",
    "from sklearn.model_selection import train_test_split\n",
    "from sklearn.preprocessing import LabelEncoder, OneHotEncoder\n",
    "from sklearn.compose import ColumnTransformer\n",
    "from sklearn.metrics import mean_absolute_error"
   ]
  },
  {
   "cell_type": "markdown",
   "metadata": {},
   "source": [
    "# Load datasets"
   ]
  },
  {
   "cell_type": "code",
   "execution_count": 55,
   "metadata": {},
   "outputs": [],
   "source": [
    "\n",
    "train_data = pd.read_csv('H1.csv')\n",
    "test_data = pd.read_csv('H2.csv')"
   ]
  },
  {
   "cell_type": "code",
   "execution_count": 56,
   "metadata": {},
   "outputs": [
    {
     "name": "stdout",
     "output_type": "stream",
     "text": [
      "   IsCanceled  LeadTime  ArrivalDateYear ArrivalDateMonth  \\\n",
      "0           0       342             2015             July   \n",
      "1           0       737             2015             July   \n",
      "2           0         7             2015             July   \n",
      "3           0        13             2015             July   \n",
      "4           0        14             2015             July   \n",
      "\n",
      "   ArrivalDateWeekNumber  ArrivalDateDayOfMonth  StaysInWeekendNights  \\\n",
      "0                     27                      1                     0   \n",
      "1                     27                      1                     0   \n",
      "2                     27                      1                     0   \n",
      "3                     27                      1                     0   \n",
      "4                     27                      1                     0   \n",
      "\n",
      "   StaysInWeekNights  Adults  Children  ...  ReservedRoomType  \\\n",
      "0                  0       2         0  ...  C                  \n",
      "1                  0       2         0  ...  C                  \n",
      "2                  1       1         0  ...  A                  \n",
      "3                  1       1         0  ...  A                  \n",
      "4                  2       2         0  ...  A                  \n",
      "\n",
      "   AssignedRoomType BookingChanges      DepositType DaysInWaitingList  \\\n",
      "0  C                             3  No Deposit                      0   \n",
      "1  C                             4  No Deposit                      0   \n",
      "2  C                             0  No Deposit                      0   \n",
      "3  A                             0  No Deposit                      0   \n",
      "4  A                             0  No Deposit                      0   \n",
      "\n",
      "   CustomerType   ADR  RequiredCarParkingSpaces TotalOfSpecialRequests  \\\n",
      "0     Transient   0.0                         0                      0   \n",
      "1     Transient   0.0                         0                      0   \n",
      "2     Transient  75.0                         0                      0   \n",
      "3     Transient  75.0                         0                      0   \n",
      "4     Transient  98.0                         0                      1   \n",
      "\n",
      "  ReservationStatus  \n",
      "0         Check-Out  \n",
      "1         Check-Out  \n",
      "2         Check-Out  \n",
      "3         Check-Out  \n",
      "4         Check-Out  \n",
      "\n",
      "[5 rows x 28 columns]\n"
     ]
    }
   ],
   "source": [
    "print(train_data.head())"
   ]
  },
  {
   "cell_type": "markdown",
   "metadata": {},
   "source": [
    "# Extract features and target variable"
   ]
  },
  {
   "cell_type": "code",
   "execution_count": 57,
   "metadata": {},
   "outputs": [],
   "source": [
    "\n",
    "X_train = train_data.drop('ADR', axis=1)\n",
    "y_train = train_data['ADR']\n",
    "X_test = test_data.drop('ADR', axis=1)\n",
    "y_test = test_data['ADR']"
   ]
  },
  {
   "cell_type": "markdown",
   "metadata": {},
   "source": [
    "# Encode categorical variables"
   ]
  },
  {
   "cell_type": "code",
   "execution_count": 58,
   "metadata": {},
   "outputs": [
    {
     "name": "stdout",
     "output_type": "stream",
     "text": [
      "   IsCanceled  LeadTime  ArrivalDateYear  ArrivalDateMonth  \\\n",
      "0           0       342                0                 5   \n",
      "1           0       737                0                 5   \n",
      "\n",
      "   ArrivalDateWeekNumber  ArrivalDateDayOfMonth  StaysInWeekendNights  \\\n",
      "0                     27                      1                     0   \n",
      "1                     27                      1                     0   \n",
      "\n",
      "   StaysInWeekNights  Adults  Children  ...  PreviousBookingsNotCanceled  \\\n",
      "0                  0       2       0.0  ...                            0   \n",
      "1                  0       2       0.0  ...                            0   \n",
      "\n",
      "   ReservedRoomType  AssignedRoomType  BookingChanges  DepositType  \\\n",
      "0                 2                 2               3            0   \n",
      "1                 2                 2               4            0   \n",
      "\n",
      "   DaysInWaitingList  CustomerType  RequiredCarParkingSpaces  \\\n",
      "0                  0             2                         0   \n",
      "1                  0             2                         0   \n",
      "\n",
      "   TotalOfSpecialRequests  ReservationStatus  \n",
      "0                       0                  1  \n",
      "1                       0                  1  \n",
      "\n",
      "[2 rows x 27 columns]\n"
     ]
    }
   ],
   "source": [
    "label_encoder = LabelEncoder()\n",
    "combined_data = pd.concat([X_train, X_test], axis=0)\n",
    "# Convert mixed data columns to strings\n",
    "mixed_data_cols = ['ArrivalDateYear', 'ArrivalDateMonth','Meal', 'Country', 'MarketSegment', 'DistributionChannel', 'ReservedRoomType', 'AssignedRoomType', 'DepositType', 'CustomerType', 'ReservationStatus']\n",
    "combined_data[mixed_data_cols] = combined_data[mixed_data_cols].astype(str)\n",
    "\n",
    "# Apply label encoding to each categorical column\n",
    "for col in mixed_data_cols:\n",
    "    combined_data[col] = label_encoder.fit_transform(combined_data[col])\n",
    "\n",
    "# Split the combined data back into train and test datasets\n",
    "X_train = combined_data[:len(X_train)]\n",
    "X_test = combined_data[len(X_train):]\n",
    "\n",
    "print(X_train.head(2))"
   ]
  },
  {
   "cell_type": "markdown",
   "metadata": {},
   "source": [
    "\n",
    "# Train SVR model"
   ]
  },
  {
   "cell_type": "code",
   "execution_count": 59,
   "metadata": {},
   "outputs": [],
   "source": [
    "\n",
    "svr = SVR()\n",
    "svr.fit(X_train, y_train)\n",
    "\n",
    "# Make predictions on the testing data\n",
    "y_pred = svr.predict(X_test)\n",
    "\n",
    "print(\"y_pred\" ,y_pred)\n",
    "\n",
    "# Calculate the difference between actual and predicted values\n",
    "difference = y_test - y_pred\n",
    "\n",
    "# Save the results to a CSV file\n",
    "results_df = pd.DataFrame({'Actual': y_test, 'Predicted': y_pred, 'Difference': difference})\n",
    "results_df.to_csv('prediction_results.csv', index=False)"
   ]
  }
 ],
 "metadata": {
  "kernelspec": {
   "display_name": "base",
   "language": "python",
   "name": "python3"
  },
  "language_info": {
   "codemirror_mode": {
    "name": "ipython",
    "version": 3
   },
   "file_extension": ".py",
   "mimetype": "text/x-python",
   "name": "python",
   "nbconvert_exporter": "python",
   "pygments_lexer": "ipython3",
   "version": "3.11.4"
  }
 },
 "nbformat": 4,
 "nbformat_minor": 2
}
