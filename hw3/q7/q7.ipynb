{
 "cells": [
  {
   "cell_type": "markdown",
   "metadata": {},
   "source": [
    "# imports"
   ]
  },
  {
   "cell_type": "code",
   "execution_count": 1,
   "metadata": {},
   "outputs": [],
   "source": [
    "import pandas as pd\n",
    "from sklearn.svm import SVC\n",
    "from sklearn.metrics import accuracy_score\n",
    "\n",
    "from sklearn.model_selection import GridSearchCV\n",
    "from sklearn.model_selection import train_test_split\n",
    "from sklearn.svm import SVR\n",
    "from sklearn.metrics import precision_score, recall_score, f1_score, accuracy_score\n"
   ]
  },
  {
   "cell_type": "code",
   "execution_count": 2,
   "metadata": {},
   "outputs": [
    {
     "name": "stdout",
     "output_type": "stream",
     "text": [
      "<bound method NDFrame.head of        Mean_of_the_integrated_profile  \\\n",
      "0                          140.562500   \n",
      "1                          102.507812   \n",
      "2                          103.015625   \n",
      "3                          136.750000   \n",
      "4                           88.726562   \n",
      "...                               ...   \n",
      "17893                      136.429688   \n",
      "17894                      122.554688   \n",
      "17895                      119.335938   \n",
      "17896                      114.507812   \n",
      "17897                       57.062500   \n",
      "\n",
      "       Standard_deviation_of_the_integrated_profile  \\\n",
      "0                                         55.683782   \n",
      "1                                         58.882430   \n",
      "2                                         39.341649   \n",
      "3                                         57.178449   \n",
      "4                                         40.672225   \n",
      "...                                             ...   \n",
      "17893                                     59.847421   \n",
      "17894                                     49.485605   \n",
      "17895                                     59.935939   \n",
      "17896                                     53.902400   \n",
      "17897                                     85.797340   \n",
      "\n",
      "       Excess_kurtosis_of_the_integrated_profile  \\\n",
      "0                                      -0.234571   \n",
      "1                                       0.465318   \n",
      "2                                       0.323328   \n",
      "3                                      -0.068415   \n",
      "4                                       0.600866   \n",
      "...                                          ...   \n",
      "17893                                  -0.187846   \n",
      "17894                                   0.127978   \n",
      "17895                                   0.159363   \n",
      "17896                                   0.201161   \n",
      "17897                                   1.406391   \n",
      "\n",
      "       Skewness_of_the_integrated_profile  Mean_of_the_DM_SNR_curve  \\\n",
      "0                               -0.699648                  3.199833   \n",
      "1                               -0.515088                  1.677258   \n",
      "2                                1.051164                  3.121237   \n",
      "3                               -0.636238                  3.642977   \n",
      "4                                1.123492                  1.178930   \n",
      "...                                   ...                       ...   \n",
      "17893                           -0.738123                  1.296823   \n",
      "17894                            0.323061                 16.409699   \n",
      "17895                           -0.743025                 21.430602   \n",
      "17896                           -0.024789                  1.946488   \n",
      "17897                            0.089520                188.306020   \n",
      "\n",
      "       Standard_deviation_of_the_DM_SNR_curve  \\\n",
      "0                                   19.110426   \n",
      "1                                   14.860146   \n",
      "2                                   21.744669   \n",
      "3                                   20.959280   \n",
      "4                                   11.468720   \n",
      "...                                       ...   \n",
      "17893                               12.166062   \n",
      "17894                               44.626893   \n",
      "17895                               58.872000   \n",
      "17896                               13.381731   \n",
      "17897                               64.712562   \n",
      "\n",
      "        Excess_kurtosis_of_the_DM_SNR_curve   Skewness_of_the_DM_SNR_curve  \\\n",
      "0                                  7.975532                      74.242225   \n",
      "1                                 10.576487                     127.393580   \n",
      "2                                  7.735822                      63.171909   \n",
      "3                                  6.896499                      53.593661   \n",
      "4                                 14.269573                     252.567306   \n",
      "...                                     ...                            ...   \n",
      "17893                             15.450260                     285.931022   \n",
      "17894                              2.945244                       8.297092   \n",
      "17895                              2.499517                       4.595173   \n",
      "17896                             10.007967                     134.238910   \n",
      "17897                             -1.597527                       1.429475   \n",
      "\n",
      "       target_class  \n",
      "0                 0  \n",
      "1                 0  \n",
      "2                 0  \n",
      "3                 0  \n",
      "4                 0  \n",
      "...             ...  \n",
      "17893             0  \n",
      "17894             0  \n",
      "17895             0  \n",
      "17896             0  \n",
      "17897             0  \n",
      "\n",
      "[17898 rows x 9 columns]>\n"
     ]
    }
   ],
   "source": [
    "\n",
    "data = pd.read_csv('pulsar_stars.csv')\n",
    "print(data.head)"
   ]
  },
  {
   "cell_type": "markdown",
   "metadata": {},
   "source": [
    "# Handle missing values"
   ]
  },
  {
   "cell_type": "code",
   "execution_count": 3,
   "metadata": {},
   "outputs": [
    {
     "data": {
      "text/plain": [
       "Mean_of_the_integrated_profile                  0\n",
       "Standard_deviation_of_the_integrated_profile    0\n",
       "Excess_kurtosis_of_the_integrated_profile       0\n",
       "Skewness_of_the_integrated_profile              0\n",
       "Mean_of_the_DM_SNR_curve                        0\n",
       "Standard_deviation_of_the_DM_SNR_curve          0\n",
       " Excess_kurtosis_of_the_DM_SNR_curve            0\n",
       " Skewness_of_the_DM_SNR_curve                   0\n",
       "target_class                                    0\n",
       "dtype: int64"
      ]
     },
     "execution_count": 3,
     "metadata": {},
     "output_type": "execute_result"
    }
   ],
   "source": [
    "data.dropna(inplace=True)\n",
    "data.isna().sum()"
   ]
  },
  {
   "cell_type": "markdown",
   "metadata": {},
   "source": [
    "# define lable and feature"
   ]
  },
  {
   "cell_type": "code",
   "execution_count": 4,
   "metadata": {},
   "outputs": [],
   "source": [
    "X_train, X_test, y_train, y_test = train_test_split(data.drop('target_class', axis=1), data['target_class'], test_size=0.2, random_state=42)"
   ]
  },
  {
   "cell_type": "code",
   "execution_count": 14,
   "metadata": {},
   "outputs": [
    {
     "name": "stdout",
     "output_type": "stream",
     "text": [
      "{'Kernel': 'rbf', 'C': 1, 'Accuracy of train': 0.9726917167202124, ' result': array([0, 0, 0, ..., 0, 0, 0], dtype=int64)}\n",
      "{'Kernel': 'rbf', 'C': 1, 'Accuracy of test': 0.9731843575418995, ' result': array([0, 0, 0, ..., 0, 0, 1], dtype=int64)}\n",
      "{'Kernel': 'rbf', 'C': 100, 'Accuracy of train': 0.9779997206313731, ' result': array([0, 0, 0, ..., 0, 0, 0], dtype=int64)}\n",
      "{'Kernel': 'rbf', 'C': 100, 'Accuracy of test': 0.979608938547486, ' result': array([0, 1, 0, ..., 0, 0, 1], dtype=int64)}\n",
      "{'Kernel': 'rbf', 'C': 1000, 'Accuracy of train': 0.9799553010196955, ' result': array([0, 0, 0, ..., 0, 0, 0], dtype=int64)}\n",
      "{'Kernel': 'rbf', 'C': 1000, 'Accuracy of test': 0.979608938547486, ' result': array([0, 1, 0, ..., 0, 0, 1], dtype=int64)}\n",
      "{'Kernel': 'linear', 'C': 1, 'Accuracy of train': 0.9791870372957117, ' result': array([0, 0, 0, ..., 0, 0, 0], dtype=int64)}\n",
      "{'Kernel': 'linear', 'C': 1, 'Accuracy of test': 0.979050279329609, ' result': array([0, 1, 0, ..., 0, 0, 1], dtype=int64)}\n",
      "{'Kernel': 'linear', 'C': 100, 'Accuracy of train': 0.9789775108255343, ' result': array([0, 0, 0, ..., 0, 0, 0], dtype=int64)}\n",
      "{'Kernel': 'linear', 'C': 100, 'Accuracy of test': 0.9787709497206704, ' result': array([0, 1, 0, ..., 0, 0, 1], dtype=int64)}\n",
      "{'Kernel': 'linear', 'C': 1000, 'Accuracy of train': 0.978767984355357, ' result': array([0, 0, 0, ..., 0, 0, 0], dtype=int64)}\n",
      "{'Kernel': 'linear', 'C': 1000, 'Accuracy of test': 0.9793296089385475, ' result': array([0, 1, 0, ..., 0, 0, 1], dtype=int64)}\n",
      "{'Kernel': 'poly', 'C': 1, 'Accuracy of train': 0.9722028216231318, ' result': array([0, 0, 0, ..., 0, 0, 0], dtype=int64)}\n",
      "{'Kernel': 'poly', 'C': 1, 'Accuracy of test': 0.9709497206703911, ' result': array([0, 0, 0, ..., 0, 0, 1], dtype=int64)}\n",
      "{'Kernel': 'poly', 'C': 100, 'Accuracy of train': 0.9768124039670345, ' result': array([0, 0, 0, ..., 0, 0, 0], dtype=int64)}\n",
      "{'Kernel': 'poly', 'C': 100, 'Accuracy of test': 0.9776536312849162, ' result': array([0, 1, 0, ..., 0, 0, 1], dtype=int64)}\n",
      "{'Kernel': 'poly', 'C': 1000, 'Accuracy of train': 0.9793965637658891, ' result': array([0, 0, 0, ..., 0, 0, 0], dtype=int64)}\n",
      "{'Kernel': 'poly', 'C': 1000, 'Accuracy of test': 0.979050279329609, ' result': array([0, 1, 0, ..., 0, 0, 1], dtype=int64)}\n",
      "{'Kernel': 'sigmoid', 'C': 1, 'Accuracy of train': 0.9232434697583461, ' result': array([0, 0, 0, ..., 0, 0, 0], dtype=int64)}\n",
      "{'Kernel': 'sigmoid', 'C': 1, 'Accuracy of test': 0.9245810055865922, ' result': array([0, 0, 0, ..., 0, 0, 1], dtype=int64)}\n",
      "{'Kernel': 'sigmoid', 'C': 100, 'Accuracy of train': 0.9202402570191367, ' result': array([0, 0, 0, ..., 0, 0, 0], dtype=int64)}\n",
      "{'Kernel': 'sigmoid', 'C': 100, 'Accuracy of test': 0.9212290502793297, ' result': array([0, 0, 0, ..., 0, 0, 1], dtype=int64)}\n",
      "{'Kernel': 'sigmoid', 'C': 1000, 'Accuracy of train': 0.9202402570191367, ' result': array([0, 0, 0, ..., 0, 0, 0], dtype=int64)}\n",
      "{'Kernel': 'sigmoid', 'C': 1000, 'Accuracy of test': 0.9212290502793297, ' result': array([0, 0, 0, ..., 0, 0, 1], dtype=int64)}\n"
     ]
    }
   ],
   "source": [
    "kernels = ['rbf', 'linear', 'poly', 'sigmoid']\n",
    "C_values = [1,100,1000]\n",
    "\n",
    "# Train and evaluate SVM models\n",
    "for kernel in kernels:\n",
    "    for C in C_values:\n",
    "        model = SVC(kernel=kernel, C=C)\n",
    "        model.fit(X_train, y_train)\n",
    "        predictions = model.predict(X_train)\n",
    "        accuracy = accuracy_score(y_train, predictions)\n",
    "        print({'Kernel': kernel, 'C': C, 'Accuracy of train': accuracy , ' result' : predictions})\n",
    "        predictions = model.predict(X_test)\n",
    "        accuracy = accuracy_score(y_test, predictions)\n",
    "        print({'Kernel': kernel, 'C': C, 'Accuracy of test': accuracy , ' result' : predictions})\n",
    "        "
   ]
  },
  {
   "cell_type": "markdown",
   "metadata": {},
   "source": [
    "# find best params with GridSearchCV"
   ]
  },
  {
   "cell_type": "code",
   "execution_count": 6,
   "metadata": {},
   "outputs": [],
   "source": [
    "\n",
    "svr_rbf = SVR(kernel='rbf')\n",
    "svr_linear = SVR(kernel='linear')\n",
    "svr_poly = SVR(kernel='poly')\n",
    "\n",
    "# Define parameter grids\n",
    "param_grid_rbf = {'C': [1, 10, 100, 500], 'gamma': [0.1, 0.3, 0.5, 0.7, 0.9]}\n",
    "param_grid_linear = {'C': [1, 10, 100, 1000]}\n",
    "param_grid_poly = {'degree': [2, 3, 4], 'C': [1, 10, 100, 500], 'gamma': [0.01, 0.03, 0.05]}\n",
    "\n",
    "\n",
    "\n",
    "# Perform Grid Search for each model\n",
    "grid_search_rbf = GridSearchCV(svr_rbf, param_grid_rbf, cv=5)\n",
    "grid_search_linear = GridSearchCV(svr_linear, param_grid_linear, cv=5)\n",
    "grid_search_poly = GridSearchCV(svr_poly, param_grid_poly, cv=5)\n",
    "\n",
    "# Fit the models\n",
    "grid_search_rbf.fit(X_train, y_train)\n",
    "grid_search_linear.fit(X_train, y_train)\n",
    "grid_search_poly.fit(X_train, y_train)\n",
    "\n",
    "# Print the best parameters for each model\n",
    "print(\"Best parameters for RBF kernel:\", grid_search_rbf.best_params_)\n",
    "print(\"Best parameters for Linear kernel:\", grid_search_linear.best_params_)\n",
    "print(\"Best parameters for Polynomial kernel:\", grid_search_poly.best_params_)\n"
   ]
  },
  {
   "cell_type": "markdown",
   "metadata": {},
   "source": [
    "# Calculate precision, recall, and f1-score"
   ]
  },
  {
   "cell_type": "code",
   "execution_count": null,
   "metadata": {},
   "outputs": [],
   "source": [
    "# Predictions on the test set using the best model\n",
    "predictions = grid_search_linear.predict(X_train)\n",
    "\n",
    "\n",
    "precision = precision_score(y_train, predictions)\n",
    "recall = recall_score(y_train, predictions)\n",
    "f1 = f1_score(y_train, predictions)\n",
    "\n",
    "# Calculate accuracy\n",
    "accuracy = accuracy_score(y_train, predictions)\n",
    "\n",
    "# Print the results\n",
    "print(f\"Precision: {precision:.4f}\")\n",
    "print(f\"Recall: {recall:.4f}\")\n",
    "print(f\"F1-Score: {f1:.4f}\")\n",
    "print(f\"Accuracy: {accuracy:.4f}\")"
   ]
  }
 ],
 "metadata": {
  "kernelspec": {
   "display_name": "base",
   "language": "python",
   "name": "python3"
  },
  "language_info": {
   "codemirror_mode": {
    "name": "ipython",
    "version": 3
   },
   "file_extension": ".py",
   "mimetype": "text/x-python",
   "name": "python",
   "nbconvert_exporter": "python",
   "pygments_lexer": "ipython3",
   "version": "3.11.4"
  }
 },
 "nbformat": 4,
 "nbformat_minor": 2
}
