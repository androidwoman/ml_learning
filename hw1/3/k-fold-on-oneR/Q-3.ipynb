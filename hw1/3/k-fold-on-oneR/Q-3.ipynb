{
 "cells": [
  {
   "attachments": {},
   "cell_type": "markdown",
   "metadata": {},
   "source": [
    "# Question 3"
   ]
  },
  {
   "cell_type": "code",
   "execution_count": 41,
   "metadata": {},
   "outputs": [],
   "source": [
    "import pandas as pd\n",
    "import numpy as np\n"
   ]
  },
  {
   "cell_type": "code",
   "execution_count": 42,
   "metadata": {},
   "outputs": [],
   "source": [
    "df = pd.read_csv('HR-Employee-Attrition.csv', ) "
   ]
  },
  {
   "cell_type": "code",
   "execution_count": 43,
   "metadata": {},
   "outputs": [
    {
     "name": "stdout",
     "output_type": "stream",
     "text": [
      "               Age    DailyRate  DistanceFromHome    Education  \\\n",
      "count  1470.000000  1470.000000       1470.000000  1470.000000   \n",
      "mean     36.923810   802.485714          9.192517     2.912925   \n",
      "std       9.135373   403.509100          8.106864     1.024165   \n",
      "min      18.000000   102.000000          1.000000     1.000000   \n",
      "25%      30.000000   465.000000          2.000000     2.000000   \n",
      "50%      36.000000   802.000000          7.000000     3.000000   \n",
      "75%      43.000000  1157.000000         14.000000     4.000000   \n",
      "max      60.000000  1499.000000         29.000000     5.000000   \n",
      "\n",
      "       EnvironmentSatisfaction     JobLevel   MonthlyRate  NumCompaniesWorked  \\\n",
      "count              1470.000000  1470.000000   1436.000000         1470.000000   \n",
      "mean                  2.721769     2.063946  14301.253482            2.693197   \n",
      "std                   1.093082     1.106940   7141.338347            2.498009   \n",
      "min                   1.000000     1.000000   2094.000000            0.000000   \n",
      "25%                   2.000000     1.000000   8015.250000            1.000000   \n",
      "50%                   3.000000     2.000000  14220.000000            2.000000   \n",
      "75%                   4.000000     3.000000  20475.500000            4.000000   \n",
      "max                   4.000000     5.000000  26999.000000            9.000000   \n",
      "\n",
      "       PerformanceRating  WorkLifeBalance  YearsAtCompany  \n",
      "count        1470.000000      1470.000000     1470.000000  \n",
      "mean            3.153741         2.761224        7.008163  \n",
      "std             0.360824         0.706476        6.126525  \n",
      "min             3.000000         1.000000        0.000000  \n",
      "25%             3.000000         2.000000        3.000000  \n",
      "50%             3.000000         3.000000        5.000000  \n",
      "75%             3.000000         3.000000        9.000000  \n",
      "max             4.000000         4.000000       40.000000  \n"
     ]
    }
   ],
   "source": [
    "\n",
    "# Summary statistics\n",
    "print(df.describe())\n",
    "\n"
   ]
  },
  {
   "cell_type": "code",
   "execution_count": 44,
   "metadata": {},
   "outputs": [
    {
     "name": "stdout",
     "output_type": "stream",
     "text": [
      "Age                         0\n",
      "Attrition                   0\n",
      "BusinessTravel              0\n",
      "DailyRate                   0\n",
      "Department                  0\n",
      "DistanceFromHome            0\n",
      "Education                   0\n",
      "EducationField              0\n",
      "EnvironmentSatisfaction     0\n",
      "Gender                     31\n",
      "JobLevel                    0\n",
      "MaritalStatus               0\n",
      "MonthlyRate                34\n",
      "NumCompaniesWorked          0\n",
      "OverTime                    0\n",
      "PerformanceRating           0\n",
      "WorkLifeBalance             0\n",
      "YearsAtCompany              0\n",
      "dtype: int64\n"
     ]
    }
   ],
   "source": [
    "# Check for missing values\n",
    "print(df.isnull().sum())"
   ]
  },
  {
   "cell_type": "code",
   "execution_count": 45,
   "metadata": {},
   "outputs": [],
   "source": [
    "# delete missing values\n",
    "df.dropna(inplace=True)"
   ]
  },
  {
   "cell_type": "code",
   "execution_count": 46,
   "metadata": {},
   "outputs": [
    {
     "name": "stdout",
     "output_type": "stream",
     "text": [
      "Age                        0\n",
      "Attrition                  0\n",
      "BusinessTravel             0\n",
      "DailyRate                  0\n",
      "Department                 0\n",
      "DistanceFromHome           0\n",
      "Education                  0\n",
      "EducationField             0\n",
      "EnvironmentSatisfaction    0\n",
      "Gender                     0\n",
      "JobLevel                   0\n",
      "MaritalStatus              0\n",
      "MonthlyRate                0\n",
      "NumCompaniesWorked         0\n",
      "OverTime                   0\n",
      "PerformanceRating          0\n",
      "WorkLifeBalance            0\n",
      "YearsAtCompany             0\n",
      "dtype: int64\n"
     ]
    }
   ],
   "source": [
    "# Check for missing values\n",
    "print(df.isnull().sum())"
   ]
  },
  {
   "cell_type": "code",
   "execution_count": 47,
   "metadata": {},
   "outputs": [
    {
     "name": "stdout",
     "output_type": "stream",
     "text": [
      "0       40-50\n",
      "1       40-50\n",
      "2       30-40\n",
      "3       30-40\n",
      "4       20-30\n",
      "        ...  \n",
      "1465    30-40\n",
      "1466    30-40\n",
      "1467    20-30\n",
      "1468    40-50\n",
      "1469    30-40\n",
      "Name: Age, Length: 1407, dtype: category\n",
      "Categories (5, object): ['0-20' < '20-30' < '30-40' < '40-50' < '50+']\n"
     ]
    }
   ],
   "source": [
    "# Define age bins and labels\n",
    "age_bins = [0, 20, 30, 40, 50, float('inf')]\n",
    "age_labels = ['0-20', '20-30', '30-40', '40-50', '50+']\n",
    "\n",
    "# Cut the 'Age' column into categories\n",
    "df['Age'] = pd.cut(df['Age'], bins=age_bins, labels=age_labels, right=False)\n",
    "print(df['Age'])"
   ]
  },
  {
   "cell_type": "code",
   "execution_count": 48,
   "metadata": {},
   "outputs": [
    {
     "name": "stdout",
     "output_type": "stream",
     "text": [
      "0         High\n",
      "1          Low\n",
      "2         High\n",
      "3         High\n",
      "4       Medium\n",
      "         ...  \n",
      "1465    Medium\n",
      "1466    Medium\n",
      "1467       Low\n",
      "1468      High\n",
      "1469    Medium\n",
      "Name: DailyRate, Length: 1407, dtype: category\n",
      "Categories (4, object): ['Low' < 'Medium' < 'High' < 'Very High']\n"
     ]
    }
   ],
   "source": [
    "daily_rate_bins = [0, 500, 1000, 1500, float('inf')]  # Define the bin boundaries\n",
    "daily_rate_labels = ['Low', 'Medium', 'High', 'Very High']  # Define labels for each category\n",
    "\n",
    "# Create a new column 'DailyRateCategory' with categorical values\n",
    "df['DailyRate'] = pd.cut(df['DailyRate'], bins=daily_rate_bins, labels=daily_rate_labels, right=False)\n",
    "print(df['DailyRate'])"
   ]
  },
  {
   "cell_type": "code",
   "execution_count": 49,
   "metadata": {},
   "outputs": [
    {
     "name": "stdout",
     "output_type": "stream",
     "text": [
      "     MonthlyRate\n",
      "0         Medium\n",
      "1           High\n",
      "2            Low\n",
      "3           High\n",
      "4         Medium\n",
      "...          ...\n",
      "1465      Medium\n",
      "1466        High\n",
      "1467         Low\n",
      "1468      Medium\n",
      "1469      Medium\n",
      "\n",
      "[1407 rows x 1 columns]\n"
     ]
    }
   ],
   "source": [
    "# Define the bins and labels for 'MonthlyRate' categories\n",
    "monthly_rate_bins = [0, 10000, 20000, 30000, float('inf')]  # Define the bin boundaries\n",
    "monthly_rate_labels = ['Low', 'Medium', 'High', 'Very High']  # Define labels for each category\n",
    "\n",
    "# Create a new column 'MonthlyRateCategory' with categorical values\n",
    "df['MonthlyRate'] = pd.cut(df['MonthlyRate'], bins=monthly_rate_bins, labels=monthly_rate_labels, right=False)\n",
    "\n",
    "# Print the DataFrame to see the changes\n",
    "print(df[['MonthlyRate']])"
   ]
  },
  {
   "cell_type": "code",
   "execution_count": 50,
   "metadata": {},
   "outputs": [
    {
     "name": "stdout",
     "output_type": "stream",
     "text": [
      "0       6-10\n",
      "1        11+\n",
      "2        0-2\n",
      "3       6-10\n",
      "4        3-5\n",
      "        ... \n",
      "1465    6-10\n",
      "1466    6-10\n",
      "1467    6-10\n",
      "1468    6-10\n",
      "1469     3-5\n",
      "Name: YearsAtCompany, Length: 1407, dtype: category\n",
      "Categories (4, object): ['0-2' < '3-5' < '6-10' < '11+']\n"
     ]
    }
   ],
   "source": [
    "years_at_company_bins = [0, 2, 5, 10, float('inf')]  # Define the bin boundaries\n",
    "years_at_company_labels = ['0-2', '3-5', '6-10', '11+']  # Define labels for each category\n",
    "\n",
    "# Create a new column 'YearsAtCompanyCategory' with categorical values\n",
    "df['YearsAtCompany'] = pd.cut(df['YearsAtCompany'], bins=years_at_company_bins, labels=years_at_company_labels, right=False)\n",
    "\n",
    "# Print the DataFrame to see the changes\n",
    "print(df['YearsAtCompany'] )"
   ]
  },
  {
   "cell_type": "code",
   "execution_count": 51,
   "metadata": {},
   "outputs": [],
   "source": [
    "class OneR(object):\n",
    "    \n",
    "    def __init__(self):\n",
    "        self.ideal_variable = None\n",
    "        self.rule=None\n",
    "        self.max_accuracy = 0\n",
    "    \n",
    "    def fit(self, X, y):\n",
    "        response = list()\n",
    "        result = dict()\n",
    "        \n",
    "        dfx = pd.DataFrame(X)\n",
    "        \n",
    "        for i in dfx:\n",
    "            result[str(i)] = dict()\n",
    "            join_data = pd.DataFrame({\"v\":dfx[i], \"c\":y})\n",
    "            cross_table = pd.crosstab(join_data.v, join_data.c)\n",
    "            summary = cross_table.idxmax(axis=1)\n",
    "            result[str(i)] = dict(summary)\n",
    "            \n",
    "            counts = 0\n",
    "            \n",
    "            for idx, row in join_data.iterrows():\n",
    "                if row['c'] == result[str(i)][row['v']]:\n",
    "                    counts += 1\n",
    "\n",
    "            accuracy = (counts/len(y))\n",
    "            \n",
    "            if accuracy > self.max_accuracy:\n",
    "                self.max_accuracy = accuracy\n",
    "                self.ideal_variable = i\n",
    "                self.rule=result[str(i)]\n",
    "\n",
    "            result_feature = {\"variable\": str(i), \"accuracy\":accuracy, \"rules\": result[str(i)] }  \n",
    "            response.append(result_feature)\n",
    "            \n",
    "            \n",
    "        \n",
    "        return response\n",
    "\n",
    "    \n",
    "    def predict(self, X=None):\n",
    "        dfx = pd.DataFrame(X)\n",
    "        predicted_labels = []\n",
    "        for idx, row in dfx.iterrows():\n",
    "            predicted_label = self.rule.get(row[self.ideal_variable], None)\n",
    "            predicted_labels.append(predicted_label)\n",
    "\n",
    "        return predicted_labels\n",
    "        \n",
    "    \n",
    "           \n",
    "       "
   ]
  },
  {
   "attachments": {},
   "cell_type": "markdown",
   "metadata": {},
   "source": [
    "# k fold"
   ]
  },
  {
   "cell_type": "code",
   "execution_count": 52,
   "metadata": {},
   "outputs": [],
   "source": [
    "\n",
    "\n",
    "def k_fold_cross_validation(model, data, labels, k):\n",
    "    num_samples = len(data)\n",
    "    fold_size = num_samples // k\n",
    "\n",
    "    # Initialize lists to store evaluation metrics\n",
    "    accuracy_scores = []\n",
    "    precision_scores = []\n",
    "    recall_scores = []\n",
    "    f1_scores = []\n",
    "\n",
    "    for i in range(k):\n",
    "        # Define the indices for the current fold\n",
    "        start = i * fold_size\n",
    "        end = (i + 1) * fold_size\n",
    "        test_indices = list(range(start, end))\n",
    "\n",
    "        # Select the test set for the current fold\n",
    "        test_data = data[test_indices]\n",
    "        test_labels = labels[test_indices]\n",
    "\n",
    "        # Select the training set for the current fold\n",
    "        train_indices = list(range(0, start)) + list(range(end, num_samples))\n",
    "        train_data = data[train_indices]\n",
    "        train_labels = labels[train_indices]\n",
    "\n",
    "        # Train the model on the training data\n",
    "        model.fit(train_data, train_labels)\n",
    "\n",
    "        # Make predictions on the test data\n",
    "        y_pred = model.predict(test_data)\n",
    "\n",
    "        # Calculate evaluation metrics for this fold\n",
    "        accuracy = np.mean(y_pred == test_labels)\n",
    "        if np.sum(y_pred == \"Yes\") == 0:\n",
    "            precision = 0.0  # Handle the case when there are no positive predictions\n",
    "            recall = 0.0\n",
    "            f1 = 0.0\n",
    "        else:\n",
    "            precision = np.mean(y_pred[y_pred == \"Yes\"] == test_labels[y_pred == \"Yes\"])\n",
    "            recall = np.mean(y_pred[y_pred == \"Yes\"] == test_labels[y_pred == \"Yes\"])\n",
    "            f1 = 2 * (precision * recall) / (precision + recall)\n",
    "\n",
    "        # Append the scores to the respective lists\n",
    "        accuracy_scores.append(accuracy)\n",
    "        precision_scores.append(precision)\n",
    "        recall_scores.append(recall)\n",
    "        f1_scores.append(f1)\n",
    "\n",
    "    # Return the mean scores across all folds\n",
    "    return {\n",
    "        \"Accuracys\": accuracy_scores,\n",
    "        \"Precisions\": precision_scores,\n",
    "        \"Accuracy mean\": np.mean(accuracy_scores),\n",
    "        \"Precision mean\": np.mean(precision_scores),\n",
    "        \"Recall \": np.mean(recall_scores),\n",
    "        \"F1 Score \": np.mean(f1_scores)\n",
    "    }\n"
   ]
  },
  {
   "cell_type": "code",
   "execution_count": 53,
   "metadata": {},
   "outputs": [
    {
     "name": "stdout",
     "output_type": "stream",
     "text": [
      "\n",
      "\n",
      "\n",
      "Results for one R  with k=3: \n",
      "\n",
      "Accuracys: [0.835820895522388, 0.8166311300639659, 0.8422174840085288]\n",
      "Precisions: [0.0, 0.0, 0.0]\n",
      "Accuracy mean: 0.8315565031982942\n",
      "Precision mean: 0.0\n",
      "Recall : 0.0\n",
      "F1 Score : 0.0\n",
      "\n",
      "\n",
      "\n",
      "Results for one R  with k=5: \n",
      "\n",
      "Accuracys: [0.8434163701067615, 0.8505338078291815, 0.7900355871886121, 0.8434163701067615, 0.8434163701067615]\n",
      "Precisions: [0.0, 0.0, 0.0, 0.0, 0.0]\n",
      "Accuracy mean: 0.8341637010676155\n",
      "Precision mean: 0.0\n",
      "Recall : 0.0\n",
      "F1 Score : 0.0\n",
      "\n",
      "\n",
      "\n",
      "Results for one R  with k=7: \n",
      "\n",
      "Accuracys: [0.8507462686567164, 0.845771144278607, 0.8407960199004975, 0.7761194029850746, 0.8258706467661692, 0.8557213930348259, 0.845771144278607]\n",
      "Precisions: [0.0, 0.0, 0.0, 0.0, 0.0, 0.0, 0.0]\n",
      "Accuracy mean: 0.8343994314143568\n",
      "Precision mean: 0.0\n",
      "Recall : 0.0\n",
      "F1 Score : 0.0\n"
     ]
    }
   ],
   "source": [
    "rule = OneR()\n",
    "data = df.drop(['Attrition'], axis=1)  \n",
    "labels = df['Attrition']\n",
    "\n",
    "k_values = [3, 5, 7]\n",
    "\n",
    "for k in k_values:\n",
    "    result = k_fold_cross_validation(rule, data.to_numpy(), labels.to_numpy(), k)\n",
    "    print(\"\\n\\n\")\n",
    "    print(f\"Results for one R  with k={k}: \\n\")\n",
    "    for metric, value in result.items():\n",
    "        print(f\"{metric}: {value}\")\n",
    "\n",
    "\n",
    "\n"
   ]
  }
 ],
 "metadata": {
  "kernelspec": {
   "display_name": "myenv",
   "language": "python",
   "name": "python3"
  },
  "language_info": {
   "codemirror_mode": {
    "name": "ipython",
    "version": 3
   },
   "file_extension": ".py",
   "mimetype": "text/x-python",
   "name": "python",
   "nbconvert_exporter": "python",
   "pygments_lexer": "ipython3",
   "version": "3.10.13"
  },
  "orig_nbformat": 4
 },
 "nbformat": 4,
 "nbformat_minor": 2
}
