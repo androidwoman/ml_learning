{
 "cells": [
  {
   "attachments": {},
   "cell_type": "markdown",
   "metadata": {},
   "source": [
    "حساس بودن درخت تصمیم به هندسه ی داده"
   ]
  },
  {
   "cell_type": "code",
   "execution_count": null,
   "metadata": {},
   "outputs": [],
   "source": [
    "import numpy as np\n",
    "import matplotlib.pyplot as plt\n",
    "\n",
    "# Number of data points\n",
    "num_samples = 100\n",
    "\n",
    "# Generate random 2D data based on your conditions\n",
    "data = np.random.uniform(-5, 5, (num_samples, 2))  \n",
    "\n",
    "# Assign classes based on your conditions\n",
    "labels = np.where(data[:, 0] < 0, 'Red', 'Blue')\n",
    "\n",
    "\n",
    "# Visualize the data\n",
    "plt.scatter(data[:, 0], data[:, 1], c=labels, )\n",
    "plt.title('Data Distribution with Red and Blue Classes (2D)')\n",
    "plt.show()\n"
   ]
  },
  {
   "cell_type": "code",
   "execution_count": null,
   "metadata": {},
   "outputs": [],
   "source": [
    "def rotate_matrix(X, angle=np.pi / 4) :\n",
    "  rotation_matrix = np.array(\n",
    "  [[np.cos(angle), -np.sin(angle)], [np.sin(angle), np.cos(angle)]]\n",
    "  )\n",
    "  return X.dot(rotation_matrix)"
   ]
  },
  {
   "cell_type": "code",
   "execution_count": null,
   "metadata": {},
   "outputs": [],
   "source": [
    "rotated_matrix = rotate_matrix(data)\n",
    "plt.scatter(rotated_matrix[:, 0], rotated_matrix[:, 1], c=labels, )\n",
    "plt.title('rotated_matrix Distribution with Red and Blue Classes (2D)')\n",
    "plt.show()"
   ]
  },
  {
   "cell_type": "code",
   "execution_count": null,
   "metadata": {},
   "outputs": [],
   "source": [
    "\n",
    "from sklearn.tree import DecisionTreeClassifier\n",
    "from sklearn.tree import export_text\n",
    "from sklearn.model_selection import train_test_split\n",
    "from sklearn.metrics import accuracy_score, confusion_matrix\n",
    "\n",
    "\n",
    "# Create and train the decision tree model\n",
    "\n",
    "X_train, X_test, y_train, y_test = train_test_split(data, labels, test_size=0.2, random_state=42)\n",
    "\n",
    "\n",
    "clf = DecisionTreeClassifier(max_depth=3)\n",
    "clf.fit(X_train, y_train)\n",
    "\n",
    "# Predict using the model on the test set\n",
    "y_pred = clf.predict(X_test)\n",
    "\n",
    "\n",
    "\n",
    "# # Display the decision tree rules as text\n",
    "tree_rules = export_text(clf, feature_names=['Feature 1', 'Feature 2'])\n",
    "print(\"Decision Tree Rules:\\n\", tree_rules)\n",
    "\n",
    "\n",
    "# Measure the model's accuracy\n",
    "accuracy = accuracy_score(y_test, y_pred)\n",
    "print(\"Model accuracy: {:.2f}\".format(accuracy))\n",
    "\n",
    "# Confusion matrix\n",
    "conf_matrix = confusion_matrix(y_test, y_pred)\n",
    "print(\"Confusion Matrix:\\n\", conf_matrix)\n",
    "\n"
   ]
  },
  {
   "cell_type": "code",
   "execution_count": null,
   "metadata": {},
   "outputs": [],
   "source": [
    "# Create and train the decision tree model\n",
    "\n",
    "X_train, X_test, y_train, y_test = train_test_split(rotated_matrix, labels, test_size=0.2, random_state=42)\n",
    "\n",
    "\n",
    "clf = DecisionTreeClassifier(max_depth=3)\n",
    "clf.fit(X_train, y_train)\n",
    "\n",
    "# Predict using the model on the test set\n",
    "y_pred = clf.predict(X_test)\n",
    "\n",
    "\n",
    "\n",
    "# # Display the decision tree rules as text\n",
    "tree_rules = export_text(clf, feature_names=['Feature 1', 'Feature 2'])\n",
    "print(\"Decision Tree Rules:\\n\", tree_rules)\n",
    "\n",
    "\n",
    "# Measure the model's accuracy\n",
    "accuracy = accuracy_score(y_test, y_pred)\n",
    "print(\"Model accuracy: {:.2f}\".format(accuracy))\n",
    "\n",
    "# Confusion matrix\n",
    "conf_matrix = confusion_matrix(y_test, y_pred)\n",
    "print(\"Confusion Matrix:\\n\", conf_matrix)"
   ]
  }
 ],
 "metadata": {
  "kernelspec": {
   "display_name": "myenv",
   "language": "python",
   "name": "python3"
  },
  "language_info": {
   "codemirror_mode": {
    "name": "ipython",
    "version": 3
   },
   "file_extension": ".py",
   "mimetype": "text/x-python",
   "name": "python",
   "nbconvert_exporter": "python",
   "pygments_lexer": "ipython3",
   "version": "3.10.13"
  },
  "orig_nbformat": 4
 },
 "nbformat": 4,
 "nbformat_minor": 2
}
