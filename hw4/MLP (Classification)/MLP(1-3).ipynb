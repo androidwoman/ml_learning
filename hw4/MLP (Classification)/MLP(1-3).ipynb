{
 "cells": [
  {
   "cell_type": "markdown",
   "metadata": {},
   "source": [
    "# این جواب قسمت های یک تا سه است "
   ]
  },
  {
   "cell_type": "code",
   "execution_count": 50,
   "metadata": {},
   "outputs": [],
   "source": [
    "import torch\n",
    "import torch.nn as nn\n",
    "from torch.utils.data import DataLoader, TensorDataset\n",
    "from sklearn.model_selection import train_test_split\n",
    "from sklearn.preprocessing import StandardScaler\n",
    "from sklearn.metrics import accuracy_score, confusion_matrix\n",
    "import matplotlib.pyplot as plt\n",
    "import pandas as pd"
   ]
  },
  {
   "cell_type": "markdown",
   "metadata": {},
   "source": [
    "# Load data from the CSV file"
   ]
  },
  {
   "cell_type": "code",
   "execution_count": 51,
   "metadata": {},
   "outputs": [],
   "source": [
    "\n",
    "file_path = \"sonar.csv\"\n",
    "df = pd.read_csv(file_path, header=None)"
   ]
  },
  {
   "cell_type": "markdown",
   "metadata": {},
   "source": [
    "# Separate features and labels"
   ]
  },
  {
   "cell_type": "code",
   "execution_count": 52,
   "metadata": {},
   "outputs": [],
   "source": [
    "\n",
    "\n",
    "X = df.iloc[:, :-1]\n",
    "y = df.iloc[:, -1]"
   ]
  },
  {
   "cell_type": "markdown",
   "metadata": {},
   "source": [
    "# Convert labels to numerical values\n"
   ]
  },
  {
   "cell_type": "code",
   "execution_count": 53,
   "metadata": {},
   "outputs": [],
   "source": [
    "\n",
    "\n",
    "label_mapping = {'R': 0, 'M': 1}\n",
    "y_numeric = y.map(label_mapping)"
   ]
  },
  {
   "cell_type": "markdown",
   "metadata": {},
   "source": [
    "# Split the data into training and testing sets"
   ]
  },
  {
   "cell_type": "code",
   "execution_count": 54,
   "metadata": {},
   "outputs": [],
   "source": [
    "\n",
    "X_train, X_test, y_train, y_test = train_test_split(X, y_numeric, test_size=0.2, random_state=42)\n",
    "\n"
   ]
  },
  {
   "cell_type": "markdown",
   "metadata": {},
   "source": [
    "# Normalize the data"
   ]
  },
  {
   "cell_type": "code",
   "execution_count": 55,
   "metadata": {},
   "outputs": [],
   "source": [
    "\n",
    "scaler = StandardScaler()\n",
    "X_train_scaled = scaler.fit_transform(X_train)\n",
    "X_test_scaled = scaler.transform(X_test)"
   ]
  },
  {
   "cell_type": "markdown",
   "metadata": {},
   "source": [
    "# Define the MLP model"
   ]
  },
  {
   "cell_type": "code",
   "execution_count": 56,
   "metadata": {},
   "outputs": [],
   "source": [
    "\n",
    "class MLP(nn.Module):\n",
    "    def __init__(self, input_size, hidden_size, output_size):\n",
    "        super(MLP, self).__init__()\n",
    "        self.fc1 = nn.Linear(input_size, hidden_size)\n",
    "        self.relu = nn.ReLU()\n",
    "        self.fc2 = nn.Linear(hidden_size, output_size)\n",
    "        self.softmax = nn.Softmax(dim=1)\n",
    "\n",
    "    def forward(self, x):\n",
    "        x = self.fc1(x)\n",
    "        x = self.relu(x)\n",
    "        x = self.fc2(x)\n",
    "        x = self.softmax(x)\n",
    "        return x"
   ]
  },
  {
   "cell_type": "markdown",
   "metadata": {},
   "source": [
    "# Initialize the model"
   ]
  },
  {
   "cell_type": "code",
   "execution_count": 57,
   "metadata": {},
   "outputs": [],
   "source": [
    "\n",
    "input_size = X_train.shape[1]\n",
    "hidden_size = 30\n",
    "output_size = 2  # Number of classes\n",
    "model = MLP(input_size, hidden_size, output_size)"
   ]
  },
  {
   "cell_type": "markdown",
   "metadata": {},
   "source": [
    "# Define loss function and optimizer"
   ]
  },
  {
   "cell_type": "code",
   "execution_count": 58,
   "metadata": {},
   "outputs": [],
   "source": [
    "\n",
    "criterion = nn.CrossEntropyLoss()\n",
    "optimizer = torch.optim.SGD(model.parameters(), lr=0.01)"
   ]
  },
  {
   "cell_type": "markdown",
   "metadata": {},
   "source": [
    "# Training the model"
   ]
  },
  {
   "cell_type": "code",
   "execution_count": 59,
   "metadata": {},
   "outputs": [
    {
     "name": "stdout",
     "output_type": "stream",
     "text": [
      "Epoch [1/100], Loss: 0.702794075012207, Test Loss: 0.7054328322410583, Accuracy: 0.5\n",
      "Epoch [2/100], Loss: 0.7023784518241882, Test Loss: 0.7048242688179016, Accuracy: 0.5\n",
      "Epoch [3/100], Loss: 0.7019648551940918, Test Loss: 0.7042155861854553, Accuracy: 0.5\n",
      "Epoch [4/100], Loss: 0.7015544176101685, Test Loss: 0.7036088705062866, Accuracy: 0.5\n",
      "Epoch [5/100], Loss: 0.7011450529098511, Test Loss: 0.7030051946640015, Accuracy: 0.5\n",
      "Epoch [6/100], Loss: 0.7007371187210083, Test Loss: 0.7024038434028625, Accuracy: 0.5\n",
      "Epoch [7/100], Loss: 0.7003301978111267, Test Loss: 0.7018046975135803, Accuracy: 0.5\n",
      "Epoch [8/100], Loss: 0.6999244689941406, Test Loss: 0.7012081742286682, Accuracy: 0.5\n",
      "Epoch [9/100], Loss: 0.6995201706886292, Test Loss: 0.7006142139434814, Accuracy: 0.5238095238095238\n",
      "Epoch [10/100], Loss: 0.6991174817085266, Test Loss: 0.7000249028205872, Accuracy: 0.5238095238095238\n",
      "Epoch [11/100], Loss: 0.698716938495636, Test Loss: 0.6994372606277466, Accuracy: 0.5238095238095238\n",
      "Epoch [12/100], Loss: 0.6983175873756409, Test Loss: 0.6988521218299866, Accuracy: 0.5238095238095238\n",
      "Epoch [13/100], Loss: 0.697919487953186, Test Loss: 0.6982691884040833, Accuracy: 0.5238095238095238\n",
      "Epoch [14/100], Loss: 0.6975229382514954, Test Loss: 0.6976889371871948, Accuracy: 0.5238095238095238\n",
      "Epoch [15/100], Loss: 0.6971275806427002, Test Loss: 0.6971116065979004, Accuracy: 0.5238095238095238\n",
      "Epoch [16/100], Loss: 0.6967342495918274, Test Loss: 0.6965407729148865, Accuracy: 0.5238095238095238\n",
      "Epoch [17/100], Loss: 0.6963434815406799, Test Loss: 0.6959723234176636, Accuracy: 0.5238095238095238\n",
      "Epoch [18/100], Loss: 0.6959539651870728, Test Loss: 0.6954059600830078, Accuracy: 0.5238095238095238\n",
      "Epoch [19/100], Loss: 0.6955652236938477, Test Loss: 0.6948412656784058, Accuracy: 0.5238095238095238\n",
      "Epoch [20/100], Loss: 0.6951772570610046, Test Loss: 0.694277286529541, Accuracy: 0.5238095238095238\n",
      "Epoch [21/100], Loss: 0.6947885155677795, Test Loss: 0.6937128305435181, Accuracy: 0.5238095238095238\n",
      "Epoch [22/100], Loss: 0.6943987011909485, Test Loss: 0.6931511163711548, Accuracy: 0.5238095238095238\n",
      "Epoch [23/100], Loss: 0.6940097808837891, Test Loss: 0.6925930976867676, Accuracy: 0.5238095238095238\n",
      "Epoch [24/100], Loss: 0.6936215758323669, Test Loss: 0.6920374631881714, Accuracy: 0.5238095238095238\n",
      "Epoch [25/100], Loss: 0.6932343244552612, Test Loss: 0.6914849877357483, Accuracy: 0.5238095238095238\n",
      "Epoch [26/100], Loss: 0.6928497552871704, Test Loss: 0.6909344792366028, Accuracy: 0.5238095238095238\n",
      "Epoch [27/100], Loss: 0.6924664974212646, Test Loss: 0.6903882622718811, Accuracy: 0.5238095238095238\n",
      "Epoch [28/100], Loss: 0.6920855641365051, Test Loss: 0.6898447871208191, Accuracy: 0.5238095238095238\n",
      "Epoch [29/100], Loss: 0.6917068958282471, Test Loss: 0.6893042325973511, Accuracy: 0.5476190476190477\n",
      "Epoch [30/100], Loss: 0.6913290619850159, Test Loss: 0.6887667775154114, Accuracy: 0.5476190476190477\n",
      "Epoch [31/100], Loss: 0.6909522414207458, Test Loss: 0.6882315874099731, Accuracy: 0.5476190476190477\n",
      "Epoch [32/100], Loss: 0.6905766129493713, Test Loss: 0.6876981854438782, Accuracy: 0.5476190476190477\n",
      "Epoch [33/100], Loss: 0.6902019381523132, Test Loss: 0.6871663331985474, Accuracy: 0.5476190476190477\n",
      "Epoch [34/100], Loss: 0.6898283958435059, Test Loss: 0.6866357922554016, Accuracy: 0.5476190476190477\n",
      "Epoch [35/100], Loss: 0.6894558668136597, Test Loss: 0.6861067414283752, Accuracy: 0.5476190476190477\n",
      "Epoch [36/100], Loss: 0.6890844106674194, Test Loss: 0.6855799555778503, Accuracy: 0.5476190476190477\n",
      "Epoch [37/100], Loss: 0.688713788986206, Test Loss: 0.6850544810295105, Accuracy: 0.5476190476190477\n",
      "Epoch [38/100], Loss: 0.6883440017700195, Test Loss: 0.6845288276672363, Accuracy: 0.5476190476190477\n",
      "Epoch [39/100], Loss: 0.6879763603210449, Test Loss: 0.6840073466300964, Accuracy: 0.5476190476190477\n",
      "Epoch [40/100], Loss: 0.6876119375228882, Test Loss: 0.683488130569458, Accuracy: 0.5476190476190477\n",
      "Epoch [41/100], Loss: 0.6872484683990479, Test Loss: 0.6829711198806763, Accuracy: 0.5476190476190477\n",
      "Epoch [42/100], Loss: 0.6868862509727478, Test Loss: 0.6824563145637512, Accuracy: 0.5476190476190477\n",
      "Epoch [43/100], Loss: 0.6865248680114746, Test Loss: 0.6819435358047485, Accuracy: 0.5476190476190477\n",
      "Epoch [44/100], Loss: 0.6861645579338074, Test Loss: 0.6814339756965637, Accuracy: 0.5476190476190477\n",
      "Epoch [45/100], Loss: 0.6858069896697998, Test Loss: 0.680928647518158, Accuracy: 0.5476190476190477\n",
      "Epoch [46/100], Loss: 0.685452401638031, Test Loss: 0.6804251074790955, Accuracy: 0.5476190476190477\n",
      "Epoch [47/100], Loss: 0.6850984692573547, Test Loss: 0.6799235343933105, Accuracy: 0.5476190476190477\n",
      "Epoch [48/100], Loss: 0.6847459673881531, Test Loss: 0.6794244050979614, Accuracy: 0.5476190476190477\n",
      "Epoch [49/100], Loss: 0.6843952536582947, Test Loss: 0.6789288520812988, Accuracy: 0.5476190476190477\n",
      "Epoch [50/100], Loss: 0.6840459704399109, Test Loss: 0.6784354448318481, Accuracy: 0.5476190476190477\n",
      "Epoch [51/100], Loss: 0.6836979985237122, Test Loss: 0.6779449582099915, Accuracy: 0.5476190476190477\n",
      "Epoch [52/100], Loss: 0.6833527684211731, Test Loss: 0.6774553656578064, Accuracy: 0.5476190476190477\n",
      "Epoch [53/100], Loss: 0.6830089688301086, Test Loss: 0.6769677400588989, Accuracy: 0.5476190476190477\n",
      "Epoch [54/100], Loss: 0.6826664209365845, Test Loss: 0.6764823198318481, Accuracy: 0.5476190476190477\n",
      "Epoch [55/100], Loss: 0.6823256015777588, Test Loss: 0.6760009527206421, Accuracy: 0.5476190476190477\n",
      "Epoch [56/100], Loss: 0.6819873452186584, Test Loss: 0.6755232214927673, Accuracy: 0.5476190476190477\n",
      "Epoch [57/100], Loss: 0.6816515326499939, Test Loss: 0.6750473976135254, Accuracy: 0.5476190476190477\n",
      "Epoch [58/100], Loss: 0.6813166737556458, Test Loss: 0.6745736598968506, Accuracy: 0.5476190476190477\n",
      "Epoch [59/100], Loss: 0.6809826493263245, Test Loss: 0.6741017699241638, Accuracy: 0.5476190476190477\n",
      "Epoch [60/100], Loss: 0.6806496977806091, Test Loss: 0.6736319661140442, Accuracy: 0.5714285714285714\n",
      "Epoch [61/100], Loss: 0.6803180575370789, Test Loss: 0.6731640696525574, Accuracy: 0.5952380952380952\n",
      "Epoch [62/100], Loss: 0.6799867153167725, Test Loss: 0.6726967096328735, Accuracy: 0.5952380952380952\n",
      "Epoch [63/100], Loss: 0.6796553134918213, Test Loss: 0.6722303628921509, Accuracy: 0.5952380952380952\n",
      "Epoch [64/100], Loss: 0.6793245673179626, Test Loss: 0.6717673540115356, Accuracy: 0.5952380952380952\n",
      "Epoch [65/100], Loss: 0.6789947152137756, Test Loss: 0.671305775642395, Accuracy: 0.5952380952380952\n",
      "Epoch [66/100], Loss: 0.6786655783653259, Test Loss: 0.6708460450172424, Accuracy: 0.5952380952380952\n",
      "Epoch [67/100], Loss: 0.6783375144004822, Test Loss: 0.6703898906707764, Accuracy: 0.5952380952380952\n",
      "Epoch [68/100], Loss: 0.6780120134353638, Test Loss: 0.6699355244636536, Accuracy: 0.5952380952380952\n",
      "Epoch [69/100], Loss: 0.6776875257492065, Test Loss: 0.6694849729537964, Accuracy: 0.5952380952380952\n",
      "Epoch [70/100], Loss: 0.6773635745048523, Test Loss: 0.6690367460250854, Accuracy: 0.5952380952380952\n",
      "Epoch [71/100], Loss: 0.6770407557487488, Test Loss: 0.6685906648635864, Accuracy: 0.5952380952380952\n",
      "Epoch [72/100], Loss: 0.6767186522483826, Test Loss: 0.6681479811668396, Accuracy: 0.5952380952380952\n",
      "Epoch [73/100], Loss: 0.6763973236083984, Test Loss: 0.6677071452140808, Accuracy: 0.5952380952380952\n",
      "Epoch [74/100], Loss: 0.6760768890380859, Test Loss: 0.6672675609588623, Accuracy: 0.5952380952380952\n",
      "Epoch [75/100], Loss: 0.6757567524909973, Test Loss: 0.6668310165405273, Accuracy: 0.5952380952380952\n",
      "Epoch [76/100], Loss: 0.6754372119903564, Test Loss: 0.6663958430290222, Accuracy: 0.5952380952380952\n",
      "Epoch [77/100], Loss: 0.6751179695129395, Test Loss: 0.6659623980522156, Accuracy: 0.5952380952380952\n",
      "Epoch [78/100], Loss: 0.6747995615005493, Test Loss: 0.6655306816101074, Accuracy: 0.5952380952380952\n",
      "Epoch [79/100], Loss: 0.6744825839996338, Test Loss: 0.6651017665863037, Accuracy: 0.5952380952380952\n",
      "Epoch [80/100], Loss: 0.6741672158241272, Test Loss: 0.6646744012832642, Accuracy: 0.5952380952380952\n",
      "Epoch [81/100], Loss: 0.6738525032997131, Test Loss: 0.6642475128173828, Accuracy: 0.5952380952380952\n",
      "Epoch [82/100], Loss: 0.6735386848449707, Test Loss: 0.6638248562812805, Accuracy: 0.5952380952380952\n",
      "Epoch [83/100], Loss: 0.6732283234596252, Test Loss: 0.6634033918380737, Accuracy: 0.5952380952380952\n",
      "Epoch [84/100], Loss: 0.6729189157485962, Test Loss: 0.662983775138855, Accuracy: 0.6190476190476191\n",
      "Epoch [85/100], Loss: 0.6726102232933044, Test Loss: 0.6625653505325317, Accuracy: 0.6190476190476191\n",
      "Epoch [86/100], Loss: 0.6723026633262634, Test Loss: 0.6621503233909607, Accuracy: 0.6190476190476191\n",
      "Epoch [87/100], Loss: 0.6719967722892761, Test Loss: 0.6617370247840881, Accuracy: 0.6428571428571429\n",
      "Epoch [88/100], Loss: 0.6716915369033813, Test Loss: 0.6613238453865051, Accuracy: 0.6666666666666666\n",
      "Epoch [89/100], Loss: 0.6713867783546448, Test Loss: 0.6609119772911072, Accuracy: 0.6666666666666666\n",
      "Epoch [90/100], Loss: 0.6710822582244873, Test Loss: 0.6605005860328674, Accuracy: 0.6666666666666666\n",
      "Epoch [91/100], Loss: 0.6707777380943298, Test Loss: 0.6600906252861023, Accuracy: 0.6666666666666666\n",
      "Epoch [92/100], Loss: 0.6704739928245544, Test Loss: 0.6596844792366028, Accuracy: 0.6666666666666666\n",
      "Epoch [93/100], Loss: 0.6701715588569641, Test Loss: 0.6592806577682495, Accuracy: 0.6666666666666666\n",
      "Epoch [94/100], Loss: 0.6698705554008484, Test Loss: 0.6588786244392395, Accuracy: 0.6666666666666666\n",
      "Epoch [95/100], Loss: 0.6695704460144043, Test Loss: 0.6584760546684265, Accuracy: 0.6666666666666666\n",
      "Epoch [96/100], Loss: 0.6692706942558289, Test Loss: 0.658073902130127, Accuracy: 0.6666666666666666\n",
      "Epoch [97/100], Loss: 0.6689709424972534, Test Loss: 0.657672643661499, Accuracy: 0.6666666666666666\n",
      "Epoch [98/100], Loss: 0.6686710119247437, Test Loss: 0.6572728157043457, Accuracy: 0.6904761904761905\n",
      "Epoch [99/100], Loss: 0.6683716177940369, Test Loss: 0.6568748950958252, Accuracy: 0.7142857142857143\n",
      "Epoch [100/100], Loss: 0.6680734753608704, Test Loss: 0.6564791798591614, Accuracy: 0.7142857142857143\n"
     ]
    }
   ],
   "source": [
    "# Lists to store training and testing losses and accuracies\n",
    "train_losses = []\n",
    "test_losses = []\n",
    "accuracies = []\n",
    "\n",
    "# Training the model\n",
    "epochs = 100\n",
    "for epoch in range(epochs):\n",
    "    model.train()\n",
    "    optimizer.zero_grad()\n",
    "    outputs = model(torch.tensor(X_train_scaled, dtype=torch.float32))\n",
    "    loss = criterion(outputs, torch.tensor(y_train.values, dtype=torch.long))\n",
    "    loss.backward()\n",
    "    optimizer.step()\n",
    "\n",
    "    model.eval()\n",
    "    with torch.no_grad():\n",
    "        test_outputs = model(torch.tensor(X_test_scaled, dtype=torch.float32))\n",
    "        test_loss = criterion(test_outputs, torch.tensor(y_test.values, dtype=torch.long))\n",
    "\n",
    "    # Append losses to the lists\n",
    "    train_losses.append(loss.item())\n",
    "    test_losses.append(test_loss.item())\n",
    "\n",
    "    # Calculate accuracy and append to the list\n",
    "    predictions = torch.argmax(model(torch.tensor(X_test_scaled, dtype=torch.float32)), dim=1)\n",
    "    accuracy = accuracy_score(y_test, predictions)\n",
    "    accuracies.append(accuracy)\n",
    "\n",
    "    print(f'Epoch [{epoch + 1}/{epochs}], Loss: {loss.item()}, Test Loss: {test_loss.item()}, Accuracy: {accuracy}')"
   ]
  },
  {
   "cell_type": "markdown",
   "metadata": {},
   "source": [
    "\n",
    "# Evaluate the model"
   ]
  },
  {
   "cell_type": "code",
   "execution_count": 60,
   "metadata": {},
   "outputs": [
    {
     "name": "stdout",
     "output_type": "stream",
     "text": [
      "Accuracy: 0.7142857142857143\n",
      "Confusion Matrix:\n",
      "[[ 7  9]\n",
      " [ 3 23]]\n"
     ]
    }
   ],
   "source": [
    "with torch.no_grad():\n",
    "    predictions = torch.argmax(model(torch.tensor(X_test_scaled, dtype=torch.float32)), dim=1)\n",
    "    accuracy = accuracy_score(y_test, predictions)\n",
    "    confusion_mat = confusion_matrix(y_test, predictions)\n",
    "\n",
    "print(f'Accuracy: {accuracy}')\n",
    "print(f'Confusion Matrix:\\n{confusion_mat}')"
   ]
  },
  {
   "cell_type": "markdown",
   "metadata": {},
   "source": [
    "# Plotting the training and testing losses"
   ]
  },
  {
   "cell_type": "code",
   "execution_count": 61,
   "metadata": {},
   "outputs": [
    {
     "data": {
      "text/plain": [
       "<matplotlib.legend.Legend at 0x224d92723d0>"
      ]
     },
     "execution_count": 61,
     "metadata": {},
     "output_type": "execute_result"
    },
    {
     "data": {
      "image/png": "[encoded data removed]",
      "text/plain": [
       "<Figure size 640x480 with 1 Axes>"
      ]
     },
     "metadata": {},
     "output_type": "display_data"
    }
   ],
   "source": [
    "\n",
    "\n",
    "plt.plot(range(1, epochs + 1), train_losses, label='Training Loss')\n",
    "plt.plot(range(1, epochs + 1), test_losses, label='Testing Loss')\n",
    "plt.title('Training and Testing Losses Over Epochs')\n",
    "plt.xlabel('Epochs')\n",
    "plt.ylabel('Loss')\n",
    "plt.legend()\n"
   ]
  },
  {
   "cell_type": "markdown",
   "metadata": {},
   "source": [
    "\n",
    "# Plotting the accuracy"
   ]
  },
  {
   "cell_type": "code",
   "execution_count": 62,
   "metadata": {},
   "outputs": [
    {
     "data": {
      "image/png": "[encoded data removed]",
      "text/plain": [
       "<Figure size 640x480 with 1 Axes>"
      ]
     },
     "metadata": {},
     "output_type": "display_data"
    }
   ],
   "source": [
    "\n",
    "\n",
    "plt.plot(range(1, epochs + 1), accuracies, label='Accuracy')\n",
    "plt.title('Accuracy Over Epochs')\n",
    "plt.xlabel('Epochs')\n",
    "plt.ylabel('Accuracy')\n",
    "plt.legend()\n",
    "\n",
    "plt.tight_layout()\n",
    "plt.show()\n"
   ]
  }
 ],
 "metadata": {
  "kernelspec": {
   "display_name": "base",
   "language": "python",
   "name": "python3"
  },
  "language_info": {
   "codemirror_mode": {
    "name": "ipython",
    "version": 3
   },
   "file_extension": ".py",
   "mimetype": "text/x-python",
   "name": "python",
   "nbconvert_exporter": "python",
   "pygments_lexer": "ipython3",
   "version": "3.11.4"
  }
 },
 "nbformat": 4,
 "nbformat_minor": 2
}
